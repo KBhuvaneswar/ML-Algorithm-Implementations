{
  "nbformat": 4,
  "nbformat_minor": 0,
  "metadata": {
    "colab": {
      "provenance": []
    },
    "kernelspec": {
      "name": "python3",
      "display_name": "Python 3"
    },
    "language_info": {
      "name": "python"
    }
  },
  "cells": [
    {
      "cell_type": "code",
      "source": [
        "import pandas as pd\n",
        "import matplotlib.pyplot as plt\n",
        "import seaborn as sns\n",
        "import os\n",
        "import re\n",
        "import math\n",
        "\n",
        "from sklearn.model_selection import train_test_split\n",
        "from collections import Counter, defaultdict"
      ],
      "metadata": {
        "id": "oAMNTQbukkKk"
      },
      "execution_count": 2,
      "outputs": []
    },
    {
      "cell_type": "markdown",
      "source": [
        "### Load the dataset"
      ],
      "metadata": {
        "id": "Jm0B0JHjkt2F"
      }
    },
    {
      "cell_type": "code",
      "source": [
        "df = pd.read_csv('SpamAssasin.csv')\n",
        "df.head()"
      ],
      "metadata": {
        "colab": {
          "base_uri": "https://localhost:8080/",
          "height": 293
        },
        "id": "uCFy9N3X9yC3",
        "outputId": "47f3b0e3-1b8f-4061-af24-d54811d166f4"
      },
      "execution_count": 41,
      "outputs": [
        {
          "output_type": "execute_result",
          "data": {
            "text/plain": [
              "                                      sender  \\\n",
              "0             Robert Elz <kre@munnari.OZ.AU>   \n",
              "1  Steve Burt <Steve_Burt@cursor-system.com>   \n",
              "2              \"Tim Chapman\" <timc@2ubh.com>   \n",
              "3           Monty Solomon <monty@roscom.com>   \n",
              "4  Stewart Smith <Stewart.Smith@ee.ed.ac.uk>   \n",
              "\n",
              "                                            receiver  \\\n",
              "0  Chris Garrigues <cwg-dated-1030377287.06fa6d@D...   \n",
              "1  \"'zzzzteana@yahoogroups.com'\" <zzzzteana@yahoo...   \n",
              "2              zzzzteana <zzzzteana@yahoogroups.com>   \n",
              "3                           undisclosed-recipient: ;   \n",
              "4                          zzzzteana@yahoogroups.com   \n",
              "\n",
              "                              date  \\\n",
              "0  Thu, 22 Aug 2002 18:26:25 +0700   \n",
              "1  Thu, 22 Aug 2002 12:46:18 +0100   \n",
              "2  Thu, 22 Aug 2002 13:52:38 +0100   \n",
              "3  Thu, 22 Aug 2002 09:15:25 -0400   \n",
              "4  Thu, 22 Aug 2002 14:38:22 +0100   \n",
              "\n",
              "                                          subject  \\\n",
              "0                        Re: New Sequences Window   \n",
              "1                       [zzzzteana] RE: Alexander   \n",
              "2                       [zzzzteana] Moscow bomber   \n",
              "3           [IRR] Klez: The Virus That  Won't Die   \n",
              "4  Re: [zzzzteana] Nothing like mama used to make   \n",
              "\n",
              "                                                body  label  urls  \n",
              "0  Date:        Wed, 21 Aug 2002 10:54:46 -0500  ...      0     1  \n",
              "1  Martin A posted:\\nTassos Papadopoulos, the Gre...      0     1  \n",
              "2  Man Threatens Explosion In Moscow \\n\\nThursday...      0     1  \n",
              "3  Klez: The Virus That Won't Die\\n \\nAlready the...      0     1  \n",
              "4  >  in adding cream to spaghetti carbonara, whi...      0     1  "
            ],
            "text/html": [
              "\n",
              "  <div id=\"df-9f58c74e-df9c-4f18-bcad-21de2595a9e8\" class=\"colab-df-container\">\n",
              "    <div>\n",
              "<style scoped>\n",
              "    .dataframe tbody tr th:only-of-type {\n",
              "        vertical-align: middle;\n",
              "    }\n",
              "\n",
              "    .dataframe tbody tr th {\n",
              "        vertical-align: top;\n",
              "    }\n",
              "\n",
              "    .dataframe thead th {\n",
              "        text-align: right;\n",
              "    }\n",
              "</style>\n",
              "<table border=\"1\" class=\"dataframe\">\n",
              "  <thead>\n",
              "    <tr style=\"text-align: right;\">\n",
              "      <th></th>\n",
              "      <th>sender</th>\n",
              "      <th>receiver</th>\n",
              "      <th>date</th>\n",
              "      <th>subject</th>\n",
              "      <th>body</th>\n",
              "      <th>label</th>\n",
              "      <th>urls</th>\n",
              "    </tr>\n",
              "  </thead>\n",
              "  <tbody>\n",
              "    <tr>\n",
              "      <th>0</th>\n",
              "      <td>Robert Elz &lt;kre@munnari.OZ.AU&gt;</td>\n",
              "      <td>Chris Garrigues &lt;cwg-dated-1030377287.06fa6d@D...</td>\n",
              "      <td>Thu, 22 Aug 2002 18:26:25 +0700</td>\n",
              "      <td>Re: New Sequences Window</td>\n",
              "      <td>Date:        Wed, 21 Aug 2002 10:54:46 -0500  ...</td>\n",
              "      <td>0</td>\n",
              "      <td>1</td>\n",
              "    </tr>\n",
              "    <tr>\n",
              "      <th>1</th>\n",
              "      <td>Steve Burt &lt;Steve_Burt@cursor-system.com&gt;</td>\n",
              "      <td>\"'zzzzteana@yahoogroups.com'\" &lt;zzzzteana@yahoo...</td>\n",
              "      <td>Thu, 22 Aug 2002 12:46:18 +0100</td>\n",
              "      <td>[zzzzteana] RE: Alexander</td>\n",
              "      <td>Martin A posted:\\nTassos Papadopoulos, the Gre...</td>\n",
              "      <td>0</td>\n",
              "      <td>1</td>\n",
              "    </tr>\n",
              "    <tr>\n",
              "      <th>2</th>\n",
              "      <td>\"Tim Chapman\" &lt;timc@2ubh.com&gt;</td>\n",
              "      <td>zzzzteana &lt;zzzzteana@yahoogroups.com&gt;</td>\n",
              "      <td>Thu, 22 Aug 2002 13:52:38 +0100</td>\n",
              "      <td>[zzzzteana] Moscow bomber</td>\n",
              "      <td>Man Threatens Explosion In Moscow \\n\\nThursday...</td>\n",
              "      <td>0</td>\n",
              "      <td>1</td>\n",
              "    </tr>\n",
              "    <tr>\n",
              "      <th>3</th>\n",
              "      <td>Monty Solomon &lt;monty@roscom.com&gt;</td>\n",
              "      <td>undisclosed-recipient: ;</td>\n",
              "      <td>Thu, 22 Aug 2002 09:15:25 -0400</td>\n",
              "      <td>[IRR] Klez: The Virus That  Won't Die</td>\n",
              "      <td>Klez: The Virus That Won't Die\\n \\nAlready the...</td>\n",
              "      <td>0</td>\n",
              "      <td>1</td>\n",
              "    </tr>\n",
              "    <tr>\n",
              "      <th>4</th>\n",
              "      <td>Stewart Smith &lt;Stewart.Smith@ee.ed.ac.uk&gt;</td>\n",
              "      <td>zzzzteana@yahoogroups.com</td>\n",
              "      <td>Thu, 22 Aug 2002 14:38:22 +0100</td>\n",
              "      <td>Re: [zzzzteana] Nothing like mama used to make</td>\n",
              "      <td>&gt;  in adding cream to spaghetti carbonara, whi...</td>\n",
              "      <td>0</td>\n",
              "      <td>1</td>\n",
              "    </tr>\n",
              "  </tbody>\n",
              "</table>\n",
              "</div>\n",
              "    <div class=\"colab-df-buttons\">\n",
              "\n",
              "  <div class=\"colab-df-container\">\n",
              "    <button class=\"colab-df-convert\" onclick=\"convertToInteractive('df-9f58c74e-df9c-4f18-bcad-21de2595a9e8')\"\n",
              "            title=\"Convert this dataframe to an interactive table.\"\n",
              "            style=\"display:none;\">\n",
              "\n",
              "  <svg xmlns=\"http://www.w3.org/2000/svg\" height=\"24px\" viewBox=\"0 -960 960 960\">\n",
              "    <path d=\"M120-120v-720h720v720H120Zm60-500h600v-160H180v160Zm220 220h160v-160H400v160Zm0 220h160v-160H400v160ZM180-400h160v-160H180v160Zm440 0h160v-160H620v160ZM180-180h160v-160H180v160Zm440 0h160v-160H620v160Z\"/>\n",
              "  </svg>\n",
              "    </button>\n",
              "\n",
              "  <style>\n",
              "    .colab-df-container {\n",
              "      display:flex;\n",
              "      gap: 12px;\n",
              "    }\n",
              "\n",
              "    .colab-df-convert {\n",
              "      background-color: #E8F0FE;\n",
              "      border: none;\n",
              "      border-radius: 50%;\n",
              "      cursor: pointer;\n",
              "      display: none;\n",
              "      fill: #1967D2;\n",
              "      height: 32px;\n",
              "      padding: 0 0 0 0;\n",
              "      width: 32px;\n",
              "    }\n",
              "\n",
              "    .colab-df-convert:hover {\n",
              "      background-color: #E2EBFA;\n",
              "      box-shadow: 0px 1px 2px rgba(60, 64, 67, 0.3), 0px 1px 3px 1px rgba(60, 64, 67, 0.15);\n",
              "      fill: #174EA6;\n",
              "    }\n",
              "\n",
              "    .colab-df-buttons div {\n",
              "      margin-bottom: 4px;\n",
              "    }\n",
              "\n",
              "    [theme=dark] .colab-df-convert {\n",
              "      background-color: #3B4455;\n",
              "      fill: #D2E3FC;\n",
              "    }\n",
              "\n",
              "    [theme=dark] .colab-df-convert:hover {\n",
              "      background-color: #434B5C;\n",
              "      box-shadow: 0px 1px 3px 1px rgba(0, 0, 0, 0.15);\n",
              "      filter: drop-shadow(0px 1px 2px rgba(0, 0, 0, 0.3));\n",
              "      fill: #FFFFFF;\n",
              "    }\n",
              "  </style>\n",
              "\n",
              "    <script>\n",
              "      const buttonEl =\n",
              "        document.querySelector('#df-9f58c74e-df9c-4f18-bcad-21de2595a9e8 button.colab-df-convert');\n",
              "      buttonEl.style.display =\n",
              "        google.colab.kernel.accessAllowed ? 'block' : 'none';\n",
              "\n",
              "      async function convertToInteractive(key) {\n",
              "        const element = document.querySelector('#df-9f58c74e-df9c-4f18-bcad-21de2595a9e8');\n",
              "        const dataTable =\n",
              "          await google.colab.kernel.invokeFunction('convertToInteractive',\n",
              "                                                    [key], {});\n",
              "        if (!dataTable) return;\n",
              "\n",
              "        const docLinkHtml = 'Like what you see? Visit the ' +\n",
              "          '<a target=\"_blank\" href=https://colab.research.google.com/notebooks/data_table.ipynb>data table notebook</a>'\n",
              "          + ' to learn more about interactive tables.';\n",
              "        element.innerHTML = '';\n",
              "        dataTable['output_type'] = 'display_data';\n",
              "        await google.colab.output.renderOutput(dataTable, element);\n",
              "        const docLink = document.createElement('div');\n",
              "        docLink.innerHTML = docLinkHtml;\n",
              "        element.appendChild(docLink);\n",
              "      }\n",
              "    </script>\n",
              "  </div>\n",
              "\n",
              "\n",
              "<div id=\"df-00c91396-d4cc-43ae-8e36-c92a0364e45e\">\n",
              "  <button class=\"colab-df-quickchart\" onclick=\"quickchart('df-00c91396-d4cc-43ae-8e36-c92a0364e45e')\"\n",
              "            title=\"Suggest charts\"\n",
              "            style=\"display:none;\">\n",
              "\n",
              "<svg xmlns=\"http://www.w3.org/2000/svg\" height=\"24px\"viewBox=\"0 0 24 24\"\n",
              "     width=\"24px\">\n",
              "    <g>\n",
              "        <path d=\"M19 3H5c-1.1 0-2 .9-2 2v14c0 1.1.9 2 2 2h14c1.1 0 2-.9 2-2V5c0-1.1-.9-2-2-2zM9 17H7v-7h2v7zm4 0h-2V7h2v10zm4 0h-2v-4h2v4z\"/>\n",
              "    </g>\n",
              "</svg>\n",
              "  </button>\n",
              "\n",
              "<style>\n",
              "  .colab-df-quickchart {\n",
              "      --bg-color: #E8F0FE;\n",
              "      --fill-color: #1967D2;\n",
              "      --hover-bg-color: #E2EBFA;\n",
              "      --hover-fill-color: #174EA6;\n",
              "      --disabled-fill-color: #AAA;\n",
              "      --disabled-bg-color: #DDD;\n",
              "  }\n",
              "\n",
              "  [theme=dark] .colab-df-quickchart {\n",
              "      --bg-color: #3B4455;\n",
              "      --fill-color: #D2E3FC;\n",
              "      --hover-bg-color: #434B5C;\n",
              "      --hover-fill-color: #FFFFFF;\n",
              "      --disabled-bg-color: #3B4455;\n",
              "      --disabled-fill-color: #666;\n",
              "  }\n",
              "\n",
              "  .colab-df-quickchart {\n",
              "    background-color: var(--bg-color);\n",
              "    border: none;\n",
              "    border-radius: 50%;\n",
              "    cursor: pointer;\n",
              "    display: none;\n",
              "    fill: var(--fill-color);\n",
              "    height: 32px;\n",
              "    padding: 0;\n",
              "    width: 32px;\n",
              "  }\n",
              "\n",
              "  .colab-df-quickchart:hover {\n",
              "    background-color: var(--hover-bg-color);\n",
              "    box-shadow: 0 1px 2px rgba(60, 64, 67, 0.3), 0 1px 3px 1px rgba(60, 64, 67, 0.15);\n",
              "    fill: var(--button-hover-fill-color);\n",
              "  }\n",
              "\n",
              "  .colab-df-quickchart-complete:disabled,\n",
              "  .colab-df-quickchart-complete:disabled:hover {\n",
              "    background-color: var(--disabled-bg-color);\n",
              "    fill: var(--disabled-fill-color);\n",
              "    box-shadow: none;\n",
              "  }\n",
              "\n",
              "  .colab-df-spinner {\n",
              "    border: 2px solid var(--fill-color);\n",
              "    border-color: transparent;\n",
              "    border-bottom-color: var(--fill-color);\n",
              "    animation:\n",
              "      spin 1s steps(1) infinite;\n",
              "  }\n",
              "\n",
              "  @keyframes spin {\n",
              "    0% {\n",
              "      border-color: transparent;\n",
              "      border-bottom-color: var(--fill-color);\n",
              "      border-left-color: var(--fill-color);\n",
              "    }\n",
              "    20% {\n",
              "      border-color: transparent;\n",
              "      border-left-color: var(--fill-color);\n",
              "      border-top-color: var(--fill-color);\n",
              "    }\n",
              "    30% {\n",
              "      border-color: transparent;\n",
              "      border-left-color: var(--fill-color);\n",
              "      border-top-color: var(--fill-color);\n",
              "      border-right-color: var(--fill-color);\n",
              "    }\n",
              "    40% {\n",
              "      border-color: transparent;\n",
              "      border-right-color: var(--fill-color);\n",
              "      border-top-color: var(--fill-color);\n",
              "    }\n",
              "    60% {\n",
              "      border-color: transparent;\n",
              "      border-right-color: var(--fill-color);\n",
              "    }\n",
              "    80% {\n",
              "      border-color: transparent;\n",
              "      border-right-color: var(--fill-color);\n",
              "      border-bottom-color: var(--fill-color);\n",
              "    }\n",
              "    90% {\n",
              "      border-color: transparent;\n",
              "      border-bottom-color: var(--fill-color);\n",
              "    }\n",
              "  }\n",
              "</style>\n",
              "\n",
              "  <script>\n",
              "    async function quickchart(key) {\n",
              "      const quickchartButtonEl =\n",
              "        document.querySelector('#' + key + ' button');\n",
              "      quickchartButtonEl.disabled = true;  // To prevent multiple clicks.\n",
              "      quickchartButtonEl.classList.add('colab-df-spinner');\n",
              "      try {\n",
              "        const charts = await google.colab.kernel.invokeFunction(\n",
              "            'suggestCharts', [key], {});\n",
              "      } catch (error) {\n",
              "        console.error('Error during call to suggestCharts:', error);\n",
              "      }\n",
              "      quickchartButtonEl.classList.remove('colab-df-spinner');\n",
              "      quickchartButtonEl.classList.add('colab-df-quickchart-complete');\n",
              "    }\n",
              "    (() => {\n",
              "      let quickchartButtonEl =\n",
              "        document.querySelector('#df-00c91396-d4cc-43ae-8e36-c92a0364e45e button');\n",
              "      quickchartButtonEl.style.display =\n",
              "        google.colab.kernel.accessAllowed ? 'block' : 'none';\n",
              "    })();\n",
              "  </script>\n",
              "</div>\n",
              "\n",
              "    </div>\n",
              "  </div>\n"
            ],
            "application/vnd.google.colaboratory.intrinsic+json": {
              "type": "dataframe",
              "variable_name": "df",
              "summary": "{\n  \"name\": \"df\",\n  \"rows\": 5809,\n  \"fields\": [\n    {\n      \"column\": \"sender\",\n      \"properties\": {\n        \"dtype\": \"category\",\n        \"num_unique_values\": 2523,\n        \"samples\": [\n          \"\\\"IQ - Standard Life Insurance\\\" <sli@insurancemail.net>\",\n          \"\\\"Michael Leone\\\" <turgon@mike-leone.com>\",\n          \"kevin lyda <kevin+dated+1027702868.158056@linux.ie>\"\n        ],\n        \"semantic_type\": \"\",\n        \"description\": \"\"\n      }\n    },\n    {\n      \"column\": \"receiver\",\n      \"properties\": {\n        \"dtype\": \"category\",\n        \"num_unique_values\": 1598,\n        \"samples\": [\n          \"<pfzlg@dao.nrc.ca>\",\n          \"\\\"Adam L. Beberg\\\" <beberg@mithral.com>,\",\n          \"carlo@alinoe.com\"\n        ],\n        \"semantic_type\": \"\",\n        \"description\": \"\"\n      }\n    },\n    {\n      \"column\": \"date\",\n      \"properties\": {\n        \"dtype\": \"string\",\n        \"num_unique_values\": 5557,\n        \"samples\": [\n          \"Thu, 18 Jul 2002 10:29:04 -0400\",\n          \"Wed, 17 Jul 2002 19:09:57\",\n          \"27 Jun 01 3:36:25 AM\"\n        ],\n        \"semantic_type\": \"\",\n        \"description\": \"\"\n      }\n    },\n    {\n      \"column\": \"subject\",\n      \"properties\": {\n        \"dtype\": \"string\",\n        \"num_unique_values\": 4187,\n        \"samples\": [\n          \"RIP, Robert L Forward\",\n          \"MAKE MONEY AT HOME\",\n          \"[Razor-users] spamassassin+razor2\"\n        ],\n        \"semantic_type\": \"\",\n        \"description\": \"\"\n      }\n    },\n    {\n      \"column\": \"body\",\n      \"properties\": {\n        \"dtype\": \"string\",\n        \"num_unique_values\": 5808,\n        \"samples\": [\n          \">>>>> \\\"J\\\" == James Rogers  writes:     J> ...  They aren't selling the software, which is pretty pricy as     J> it happens.  They are using it to optimize next generation     J> wireless canopies over metro areas and fiber networks on a     J> large scale.  There are an essentially infinite number of metro     J> wireless configurations, some of which generate far more dead     J> or marginal spots and others which are very expensive to     J> operate (due to backhaul transit considerations) or both.  This     J> software can be used as a tool to optimize the canopy coverage     J> and minimize the actual transit costs since the wireless is     J> tied into fiber at multiple points. So you only need to map a handful of metropolitan areas?     J> Or at least investors find this capability very sexy and     J> compelling Ah ... now /that/ I will believe :) Don't mind me; I'm just getting even more cynical in my old age.    --  Gary Lawrence Murphy  TeleDynamics Communications Inc  Business Advantage through Community Software : http://www.teledyn.com \\\"Computers are useless.  They can only give you answers.\\\"(Pablo Picasso)\",\n          \"> - Joe\\n> \\n> P.S. I hate everybody.\\n\\none up: I hate everything post-(the first ten seconds of the universe),\\nbut especially everybody and everything, and including but not limited to\\npuppies and ice cream.\\n\\n\\nhttp://xent.com/mailman/listinfo/fork\",\n          \"![CNET Announce](http://www.cnet.com/i/nl/ann/hd.gif) |\\n![](http://www.cnet.com/i/nl/ann/rt.gif)  \\n---|---  \\n![](http://www.cnet.com/b.gif)  \\n---  \\n![](http://www.cnet.com/b.gif) | ![](http://www.cnet.com/b.gif) |\\n![](http://www.cnet.com/b.gif) | ![](http://www.cnet.com/b.gif)  \\n![](http://www.cnet.com/b.gif) | ![](http://www.cnet.com/b.gif) |\\n![](http://www.cnet.com/b.gif)  \\n![](http://www.cnet.com/b.gif) | ![](http://www.cnet.com/b.gif) |\\n![](http://www.cnet.com/b.gif) | ![](/b.gif)  \\n\\n![](http://home.cnet.com/Ads/Media/Images/ad10-dk.gif)\\n\\n| ![](http://www.cnet.com/b.gif)  \\n---|---|---|---|---  \\n![](http://www.cnet.com/b.gif) | ![](http://www.cnet.com/b.gif) |\\n![](http://www.cnet.com/b.gif) |    July 18, 2002  \\n| ![Canon USA Reseller\\nNews](http://www.captureleads.com/canon/leadblasts/nlimages/monthly_head_598.gif)  \\n---  \\n_July 2002 / Volume 2 No. 5_  \\n  \\n  |  \\n**  \\nThe Canon USA Reseller News  **provides resellers with monthly announcements\\non Canon products that are purchased through national distributors.  \\n  \\n  \\n  \\n  \\n|   |   |  \\nScan the following topics for **\\\"News You Can Use.\\\"**\\n\\n  * They're Here!  \\n\\n  * Check Out Our Q3 Promotions  \\n\\n  * Guess What's Coming to Distribution  \\n\\n  * Web-based Training Addition / We Have a Winner  \\n\\n  * Reseller Account Executive  \\n\\n|  \\n---|---|---|---|---|---  \\n  \\n  | **They're Here!** |  \\n---|---|---  \\n  | Canon's N1000 and N2000 innovative Office Color Printers are here! Orders\\nare now being taken for these ... Super High Speed ... Super High Quality ...\\nLarge Volume printers! With super low operating costs and excellent\\ndurability, these printers provide the solution to your customers' business\\ncolor needs.  \\n  \\nProviding our resellers with the tools necessary to be successful in the\\nmarketplace is important to us. In an effort to help you jump-start your N1000\\nprinter sales, we are making available, on a first come first served basis,\\nHALF-PRICE N1000 DEMO units. For your convenience, these units can be\\npurchased at Ingram Micro, Tech Data or D&H.; There is a limit of one half-\\nprice unit per reseller - and supplies are limited - so order today!  \\n  \\nTo help you generate interest with your customers for the N1000/N2000, we have\\ncreated a video banner ad that can be run on your website. Log on to our\\nreseller website: http://www.canonresellers.com to view the N1000/N2000 video\\nbanner ad. You'll find the ad running on the Home Page. To order a CD of this\\nvideo banner ad for your use, contact your Canon Account Executive.  |  \\n  \\n  | **Check Out Our Q3 Promotions** |  \\n---|---|---  \\n  \\n\\n**Product**\\n\\n| **Instant Rebate*** | **Timeframe**  \\n---|---|---  \\nimageCLASS 1100 | $100 | Through September 30, 2002  \\n  \\n  | *All rebates will be reflected on the distributor invoice price **_at the\\ntime of purchase_**.  \\n  \\n**Quarterly Performance/Growth Bonus**  \\n  \\nIt's a new quarter and a fresh opportunity to become a Canon Premier Partner.\\nOur quarterly growth goals are within reach! Your purchases of all eligible\\nhardware* between July 1, 2002 and September 30, 2002 work toward your Premier\\nPartner status. Following are the rebate categories:  \\n  \\n$50,000-$99,000 = 4% rebate  \\n$100,000+ = 6% rebate  \\n  \\nClaim forms for submitting your claims are available from your Canon reseller\\nAccount Executive and at www.canonresellers.com.  \\n  \\n*Only hardware is eligible - DR-3060, DR-3080C, DR-5020, DR-5080C, DR-4580U, DR-4080U, N1000/N2000 Office Color Printers, imageCLASS 2200 and imageCLASS 1100. CarePAKS, consumables, maintenance kits and media are not eligible.  \\n  \\nClick on www.canonresellers.com, to find your tools for success!  \\n|  \\n---|---|---  \\n  \\n  \\n  | **Guess What's Coming to Distribution** |  \\n---|---|---  \\n  |  Here's a clue: Canon is known 'far and wide' for its products. Coming\\nsoon\\u0097at a distributor near you - we'll show you just how 'wide' our products\\ncan be. Watch for another clue in our August newsletter! |  \\n  \\n  | **Web Based Training Addition / We Have a Winner** |  \\n---|---|---  \\n  | As promised, we're about to launch another web training course. Final\\ntouches are being made on Canon's **N1000/N2000** web training course. This\\ncreative and informative course - covering topics that include Features,\\nInstallation, Connectivity and Markets - is not to be missed. Details to\\nfollow.  \\n  \\nWe have a winner! Congratulations to everyone who completed the imageCLASS\\n1100 web training before June 30! The winning name was randomly selected from\\na 'hat' and we're pleased to announce the winner of the Canon PowerShot A20\\ndigital camera works at one of our valued resellers in North Carolina! |\\n![](http://www.captureleads.com/canon/leadblasts/nlimages/simon_anim.gif) |  \\n  | Although the contest is over... the learning should not stop. If you have\\nnot yet completed this informative imageCLASS 1100 training course, log on to\\nhttp://www.canonresellers.com right click on Simon and go to the training\\nsite.  \\n  \\n|  \\n  \\n  | **Reseller Account Executive\\u0097Contact Changes** |  \\n---|---|---  \\n  | Canon has a dedicated team of Account Executives whose mission is to work\\nwith you to achieve our mutual business goals.  \\n  \\nCheck the list below and note the name and e-mail address of the Account\\nExecutive assigned to your state. Be sure to contact your Account Executive\\nfor support with the following:  |  \\n  |\\n\\n  * N1000/N2000 Video Banner Ad  \\n\\n  * Events (Open Houses/Shows)  \\n\\n  * Sales Support Collateral  \\n\\n  * Discounted Demo Units  \\n\\n|\\n\\n  * End User Sales Calls  \\n\\n  * Demand Generation  \\n\\n  * Product Training  \\n\\n  * Bids  \\n\\n|  \\n  | Account Executives are listed below with the states that they cover.  \\n|  \\n  \\n  | **Northeast** | **John Brogan** | **(jbrogan@cusa.canon.com)** |  \\n---|---|---|---|---  \\n  | Connecticut | Maine  | New Hampshire | Rhode Island |  \\n  | Massachusetts | New York | New Jersey | Vermont |  \\n  |  |  |  |  |  \\n  | **Mid Atlantic** | **Greg Harzenski** | **(gharzenski@cusa.canon.com)** |  \\n  | Delaware | Maryland | Washington D.C. |   |  \\n  |  |  |  |  |  \\n  | **Midwest** | **Jennifer Mickeletto** | **(zzzickeletto@cusa.canon.com)**\\n|  \\n  | Indiana | Kansas | Missouri | Ohio |  \\n  | Colorado | Kentucky | Nebraska | Tennessee |  \\n  |  |  |  |  |  \\n  | **Mid North** | **Chad Crump** | **(ccrump@cusa.canon.com)** |  \\n  | Alaska | Illinois | Minnesota | Washington |  \\n  | Idaho | Montana | North Dakota | Wisconsin |  \\n  | Iowa | Michigan | South Dakota | Wyoming |  \\n  |  |  |  |   |  \\n  | **South** | **Randal Kendrix** | **(rkendrix@cusa.canon.com)** |  \\n  | Arkansas | Mississippi | Oklahoma | Utah |  \\n  | Louisiana | New Mexico | Texas |   |  \\n  |  |  |  |  |  \\n  | **Southeast** | **Carmen DiMartino** | **(cdimartino@cusa.canon.com) ** |  \\n  | Alabama | North Carolina | Puerto Rico | West Virginia |  \\n  | Florida | South Carolina | Virginia |   |  \\n  | Georgia | Pennsylvania | Virgin Islands |  |  \\n  |  |  |  |  |  \\n  | **Southwest** | **Heath Tagtmeyer** | **(htagtmeyer@cusa.canon.com)** |  \\n  | Arizona | Hawaii | Oregon |  |  \\n  | California | Nevada |  |  |  \\n  |  |  |  |  |  \\n  | _If you wish to opt out of receiving future e-mail blasts, pleaseclick\\nhere. If you would like additional recipients to receive our monthly\\ncommunications, send additional names and e-mail addresses to\\ncanonresellers@cits.canon.com. _ |  \\n  |   |   |   |   |  \\n  \\n![](http://www.cnet.com/b.gif)  \\n![](http://www.cnet.com/b.gif) | ![](http://www.cnet.com/b.gif) |\\n![](http://www.cnet.com/b.gif) | ![](http://www.cnet.com/b.gif) |\\n![](http://www.cnet.com/b.gif)  \\n---|---|---|---|---  \\n![](http://www.cnet.com/b.gif) | ![](http://www.cnet.com/b.gif) |\\n![](http://www.cnet.com/b.gif) | ![](http://www.cnet.com/b.gif) |\\n![](http://www.cnet.com/b.gif)  \\n![Sign up for more free newsletters from\\nCNET!](http://a.r.tv.com/cnet.1d/i/nl/ft.gif)  \\nThe e-mail address for your subscription is qqqqqqqqqq-zdnet@example.com\\n\\nUnsubscribe | Manage My Subscriptions  | FAQ  | Advertise  \\n![](http://www.zdnet.com/b.gif) | ![](http://www.cnet.com/b.gif) |\\n![](http://www.cnet.com/b.gif)  \\n---|---|---|---|---|---|---  \\n![](http://www.cnet.com/b.gif) | ![](http://www.cnet.com/b.gif) |\\n![](http://www.cnet.com/b.gif)  \\n---|---|---  \\n![](http://www.cnet.com/b.gif) | ![](http://www.cnet.com/b.gif) |\\n![](http://www.cnet.com/i/dp/smrb.gif) |  Price comparisons | Product reviews\\n| Tech news | Downloads | All CNET services | ![](http://www.cnet.com/b.gif)  \\n---|---|---|---|---  \\n![](http://www.cnet.com/b.gif)  \\n---  \\n.  \\n![](http://clickthru.online.com/Click?q=ba-m-95-hpITW8NcktOu5LdlZB0PRRR)\\n\\n\"\n        ],\n        \"semantic_type\": \"\",\n        \"description\": \"\"\n      }\n    },\n    {\n      \"column\": \"label\",\n      \"properties\": {\n        \"dtype\": \"number\",\n        \"std\": 0,\n        \"min\": 0,\n        \"max\": 1,\n        \"num_unique_values\": 2,\n        \"samples\": [\n          1,\n          0\n        ],\n        \"semantic_type\": \"\",\n        \"description\": \"\"\n      }\n    },\n    {\n      \"column\": \"urls\",\n      \"properties\": {\n        \"dtype\": \"number\",\n        \"std\": 0,\n        \"min\": 0,\n        \"max\": 1,\n        \"num_unique_values\": 2,\n        \"samples\": [\n          0,\n          1\n        ],\n        \"semantic_type\": \"\",\n        \"description\": \"\"\n      }\n    }\n  ]\n}"
            }
          },
          "metadata": {},
          "execution_count": 41
        }
      ]
    },
    {
      "cell_type": "markdown",
      "source": [
        "Label count"
      ],
      "metadata": {
        "id": "X4rHslRHfr-K"
      }
    },
    {
      "cell_type": "code",
      "source": [
        "label_counts = df['label'].value_counts()\n",
        "print(label_counts)"
      ],
      "metadata": {
        "colab": {
          "base_uri": "https://localhost:8080/"
        },
        "id": "Vt3fNdTze-AD",
        "outputId": "abe58ba1-be7f-4e30-d146-613aa0c8c769"
      },
      "execution_count": 42,
      "outputs": [
        {
          "output_type": "stream",
          "name": "stdout",
          "text": [
            "label\n",
            "0    4091\n",
            "1    1718\n",
            "Name: count, dtype: int64\n"
          ]
        }
      ]
    },
    {
      "cell_type": "markdown",
      "source": [
        "### Plot the distribution of labels in the dataset"
      ],
      "metadata": {
        "id": "hwbSV5FF0zXQ"
      }
    },
    {
      "cell_type": "code",
      "source": [
        "plt.figure(figsize=(8, 6))\n",
        "sns.countplot(x='label', hue='label', data=df, palette='Set2')\n",
        "plt.xticks([0, 1], ['Ham', 'Spam'])\n",
        "plt.title('Distribution of Labels')\n",
        "plt.xlabel('Label')\n",
        "plt.ylabel('Count')\n",
        "plt.show()"
      ],
      "metadata": {
        "colab": {
          "base_uri": "https://localhost:8080/",
          "height": 564
        },
        "id": "wgVa73Kq0iN0",
        "outputId": "0a190ae7-c740-4aae-ae1f-df66f33bf394"
      },
      "execution_count": 43,
      "outputs": [
        {
          "output_type": "display_data",
          "data": {
            "text/plain": [
              "<Figure size 800x600 with 1 Axes>"
            ],
            "image/png": "[encoded data removed]"
          },
          "metadata": {}
        }
      ]
    },
    {
      "cell_type": "markdown",
      "source": [
        "### It is evident that there is significant difference in the number of spam emails and ham emails. Let's add some spam emails from `CEAS_08.csv` to the `SpamAssasin.csv` to balance the dataset"
      ],
      "metadata": {
        "id": "Z_pAuN6sUOZN"
      }
    },
    {
      "cell_type": "code",
      "source": [
        "df_other = pd.read_csv('CEAS_08.csv')\n",
        "df_other.head()"
      ],
      "metadata": {
        "colab": {
          "base_uri": "https://localhost:8080/",
          "height": 553
        },
        "id": "tOgLO-NJevww",
        "outputId": "541a4f49-e86c-4154-d824-e8069923c250"
      },
      "execution_count": 44,
      "outputs": [
        {
          "output_type": "execute_result",
          "data": {
            "text/plain": [
              "                                              sender  \\\n",
              "0                   Young Esposito <Young@iworld.de>   \n",
              "1                       Mok <ipline's1983@icable.ph>   \n",
              "2  Daily Top 10 <Karmandeep-opengevl@universalnet...   \n",
              "3                 Michael Parker <ivqrnai@pobox.com>   \n",
              "4  Gretchen Suggs <externalsep1@loanofficertool.com>   \n",
              "\n",
              "                                         receiver  \\\n",
              "0                     user4@gvc.ceas-challenge.cc   \n",
              "1                   user2.2@gvc.ceas-challenge.cc   \n",
              "2                   user2.9@gvc.ceas-challenge.cc   \n",
              "3  SpamAssassin Dev <xrh@spamassassin.apache.org>   \n",
              "4                   user2.2@gvc.ceas-challenge.cc   \n",
              "\n",
              "                              date  \\\n",
              "0  Tue, 05 Aug 2008 16:31:02 -0700   \n",
              "1  Tue, 05 Aug 2008 18:31:03 -0500   \n",
              "2  Tue, 05 Aug 2008 20:28:00 -1200   \n",
              "3  Tue, 05 Aug 2008 17:31:20 -0600   \n",
              "4  Tue, 05 Aug 2008 19:31:21 -0400   \n",
              "\n",
              "                                             subject  \\\n",
              "0                          Never agree to be a loser   \n",
              "1                             Befriend Jenna Jameson   \n",
              "2                               CNN.com Daily Top 10   \n",
              "3  Re: svn commit: r619753 - in /spamassassin/tru...   \n",
              "4                         SpecialPricesPharmMoreinfo   \n",
              "\n",
              "                                                body  label  urls  \n",
              "0  Buck up, your troubles caused by small dimensi...      1     1  \n",
              "1  \\nUpgrade your sex and pleasures with these te...      1     1  \n",
              "2  >+=+=+=+=+=+=+=+=+=+=+=+=+=+=+=+=+=+=+=+=+=+=+...      1     1  \n",
              "3  Would anyone object to removing .so from this ...      0     1  \n",
              "4  \\nWelcomeFastShippingCustomerSupport\\nhttp://7...      1     1  "
            ],
            "text/html": [
              "\n",
              "  <div id=\"df-5b8496ba-6761-4b2a-97ea-a14b2b4c4058\" class=\"colab-df-container\">\n",
              "    <div>\n",
              "<style scoped>\n",
              "    .dataframe tbody tr th:only-of-type {\n",
              "        vertical-align: middle;\n",
              "    }\n",
              "\n",
              "    .dataframe tbody tr th {\n",
              "        vertical-align: top;\n",
              "    }\n",
              "\n",
              "    .dataframe thead th {\n",
              "        text-align: right;\n",
              "    }\n",
              "</style>\n",
              "<table border=\"1\" class=\"dataframe\">\n",
              "  <thead>\n",
              "    <tr style=\"text-align: right;\">\n",
              "      <th></th>\n",
              "      <th>sender</th>\n",
              "      <th>receiver</th>\n",
              "      <th>date</th>\n",
              "      <th>subject</th>\n",
              "      <th>body</th>\n",
              "      <th>label</th>\n",
              "      <th>urls</th>\n",
              "    </tr>\n",
              "  </thead>\n",
              "  <tbody>\n",
              "    <tr>\n",
              "      <th>0</th>\n",
              "      <td>Young Esposito &lt;Young@iworld.de&gt;</td>\n",
              "      <td>user4@gvc.ceas-challenge.cc</td>\n",
              "      <td>Tue, 05 Aug 2008 16:31:02 -0700</td>\n",
              "      <td>Never agree to be a loser</td>\n",
              "      <td>Buck up, your troubles caused by small dimensi...</td>\n",
              "      <td>1</td>\n",
              "      <td>1</td>\n",
              "    </tr>\n",
              "    <tr>\n",
              "      <th>1</th>\n",
              "      <td>Mok &lt;ipline's1983@icable.ph&gt;</td>\n",
              "      <td>user2.2@gvc.ceas-challenge.cc</td>\n",
              "      <td>Tue, 05 Aug 2008 18:31:03 -0500</td>\n",
              "      <td>Befriend Jenna Jameson</td>\n",
              "      <td>\\nUpgrade your sex and pleasures with these te...</td>\n",
              "      <td>1</td>\n",
              "      <td>1</td>\n",
              "    </tr>\n",
              "    <tr>\n",
              "      <th>2</th>\n",
              "      <td>Daily Top 10 &lt;Karmandeep-opengevl@universalnet...</td>\n",
              "      <td>user2.9@gvc.ceas-challenge.cc</td>\n",
              "      <td>Tue, 05 Aug 2008 20:28:00 -1200</td>\n",
              "      <td>CNN.com Daily Top 10</td>\n",
              "      <td>&gt;+=+=+=+=+=+=+=+=+=+=+=+=+=+=+=+=+=+=+=+=+=+=+...</td>\n",
              "      <td>1</td>\n",
              "      <td>1</td>\n",
              "    </tr>\n",
              "    <tr>\n",
              "      <th>3</th>\n",
              "      <td>Michael Parker &lt;ivqrnai@pobox.com&gt;</td>\n",
              "      <td>SpamAssassin Dev &lt;xrh@spamassassin.apache.org&gt;</td>\n",
              "      <td>Tue, 05 Aug 2008 17:31:20 -0600</td>\n",
              "      <td>Re: svn commit: r619753 - in /spamassassin/tru...</td>\n",
              "      <td>Would anyone object to removing .so from this ...</td>\n",
              "      <td>0</td>\n",
              "      <td>1</td>\n",
              "    </tr>\n",
              "    <tr>\n",
              "      <th>4</th>\n",
              "      <td>Gretchen Suggs &lt;externalsep1@loanofficertool.com&gt;</td>\n",
              "      <td>user2.2@gvc.ceas-challenge.cc</td>\n",
              "      <td>Tue, 05 Aug 2008 19:31:21 -0400</td>\n",
              "      <td>SpecialPricesPharmMoreinfo</td>\n",
              "      <td>\\nWelcomeFastShippingCustomerSupport\\nhttp://7...</td>\n",
              "      <td>1</td>\n",
              "      <td>1</td>\n",
              "    </tr>\n",
              "  </tbody>\n",
              "</table>\n",
              "</div>\n",
              "    <div class=\"colab-df-buttons\">\n",
              "\n",
              "  <div class=\"colab-df-container\">\n",
              "    <button class=\"colab-df-convert\" onclick=\"convertToInteractive('df-5b8496ba-6761-4b2a-97ea-a14b2b4c4058')\"\n",
              "            title=\"Convert this dataframe to an interactive table.\"\n",
              "            style=\"display:none;\">\n",
              "\n",
              "  <svg xmlns=\"http://www.w3.org/2000/svg\" height=\"24px\" viewBox=\"0 -960 960 960\">\n",
              "    <path d=\"M120-120v-720h720v720H120Zm60-500h600v-160H180v160Zm220 220h160v-160H400v160Zm0 220h160v-160H400v160ZM180-400h160v-160H180v160Zm440 0h160v-160H620v160ZM180-180h160v-160H180v160Zm440 0h160v-160H620v160Z\"/>\n",
              "  </svg>\n",
              "    </button>\n",
              "\n",
              "  <style>\n",
              "    .colab-df-container {\n",
              "      display:flex;\n",
              "      gap: 12px;\n",
              "    }\n",
              "\n",
              "    .colab-df-convert {\n",
              "      background-color: #E8F0FE;\n",
              "      border: none;\n",
              "      border-radius: 50%;\n",
              "      cursor: pointer;\n",
              "      display: none;\n",
              "      fill: #1967D2;\n",
              "      height: 32px;\n",
              "      padding: 0 0 0 0;\n",
              "      width: 32px;\n",
              "    }\n",
              "\n",
              "    .colab-df-convert:hover {\n",
              "      background-color: #E2EBFA;\n",
              "      box-shadow: 0px 1px 2px rgba(60, 64, 67, 0.3), 0px 1px 3px 1px rgba(60, 64, 67, 0.15);\n",
              "      fill: #174EA6;\n",
              "    }\n",
              "\n",
              "    .colab-df-buttons div {\n",
              "      margin-bottom: 4px;\n",
              "    }\n",
              "\n",
              "    [theme=dark] .colab-df-convert {\n",
              "      background-color: #3B4455;\n",
              "      fill: #D2E3FC;\n",
              "    }\n",
              "\n",
              "    [theme=dark] .colab-df-convert:hover {\n",
              "      background-color: #434B5C;\n",
              "      box-shadow: 0px 1px 3px 1px rgba(0, 0, 0, 0.15);\n",
              "      filter: drop-shadow(0px 1px 2px rgba(0, 0, 0, 0.3));\n",
              "      fill: #FFFFFF;\n",
              "    }\n",
              "  </style>\n",
              "\n",
              "    <script>\n",
              "      const buttonEl =\n",
              "        document.querySelector('#df-5b8496ba-6761-4b2a-97ea-a14b2b4c4058 button.colab-df-convert');\n",
              "      buttonEl.style.display =\n",
              "        google.colab.kernel.accessAllowed ? 'block' : 'none';\n",
              "\n",
              "      async function convertToInteractive(key) {\n",
              "        const element = document.querySelector('#df-5b8496ba-6761-4b2a-97ea-a14b2b4c4058');\n",
              "        const dataTable =\n",
              "          await google.colab.kernel.invokeFunction('convertToInteractive',\n",
              "                                                    [key], {});\n",
              "        if (!dataTable) return;\n",
              "\n",
              "        const docLinkHtml = 'Like what you see? Visit the ' +\n",
              "          '<a target=\"_blank\" href=https://colab.research.google.com/notebooks/data_table.ipynb>data table notebook</a>'\n",
              "          + ' to learn more about interactive tables.';\n",
              "        element.innerHTML = '';\n",
              "        dataTable['output_type'] = 'display_data';\n",
              "        await google.colab.output.renderOutput(dataTable, element);\n",
              "        const docLink = document.createElement('div');\n",
              "        docLink.innerHTML = docLinkHtml;\n",
              "        element.appendChild(docLink);\n",
              "      }\n",
              "    </script>\n",
              "  </div>\n",
              "\n",
              "\n",
              "<div id=\"df-b5391296-592b-4fb3-864e-1a0d295f1299\">\n",
              "  <button class=\"colab-df-quickchart\" onclick=\"quickchart('df-b5391296-592b-4fb3-864e-1a0d295f1299')\"\n",
              "            title=\"Suggest charts\"\n",
              "            style=\"display:none;\">\n",
              "\n",
              "<svg xmlns=\"http://www.w3.org/2000/svg\" height=\"24px\"viewBox=\"0 0 24 24\"\n",
              "     width=\"24px\">\n",
              "    <g>\n",
              "        <path d=\"M19 3H5c-1.1 0-2 .9-2 2v14c0 1.1.9 2 2 2h14c1.1 0 2-.9 2-2V5c0-1.1-.9-2-2-2zM9 17H7v-7h2v7zm4 0h-2V7h2v10zm4 0h-2v-4h2v4z\"/>\n",
              "    </g>\n",
              "</svg>\n",
              "  </button>\n",
              "\n",
              "<style>\n",
              "  .colab-df-quickchart {\n",
              "      --bg-color: #E8F0FE;\n",
              "      --fill-color: #1967D2;\n",
              "      --hover-bg-color: #E2EBFA;\n",
              "      --hover-fill-color: #174EA6;\n",
              "      --disabled-fill-color: #AAA;\n",
              "      --disabled-bg-color: #DDD;\n",
              "  }\n",
              "\n",
              "  [theme=dark] .colab-df-quickchart {\n",
              "      --bg-color: #3B4455;\n",
              "      --fill-color: #D2E3FC;\n",
              "      --hover-bg-color: #434B5C;\n",
              "      --hover-fill-color: #FFFFFF;\n",
              "      --disabled-bg-color: #3B4455;\n",
              "      --disabled-fill-color: #666;\n",
              "  }\n",
              "\n",
              "  .colab-df-quickchart {\n",
              "    background-color: var(--bg-color);\n",
              "    border: none;\n",
              "    border-radius: 50%;\n",
              "    cursor: pointer;\n",
              "    display: none;\n",
              "    fill: var(--fill-color);\n",
              "    height: 32px;\n",
              "    padding: 0;\n",
              "    width: 32px;\n",
              "  }\n",
              "\n",
              "  .colab-df-quickchart:hover {\n",
              "    background-color: var(--hover-bg-color);\n",
              "    box-shadow: 0 1px 2px rgba(60, 64, 67, 0.3), 0 1px 3px 1px rgba(60, 64, 67, 0.15);\n",
              "    fill: var(--button-hover-fill-color);\n",
              "  }\n",
              "\n",
              "  .colab-df-quickchart-complete:disabled,\n",
              "  .colab-df-quickchart-complete:disabled:hover {\n",
              "    background-color: var(--disabled-bg-color);\n",
              "    fill: var(--disabled-fill-color);\n",
              "    box-shadow: none;\n",
              "  }\n",
              "\n",
              "  .colab-df-spinner {\n",
              "    border: 2px solid var(--fill-color);\n",
              "    border-color: transparent;\n",
              "    border-bottom-color: var(--fill-color);\n",
              "    animation:\n",
              "      spin 1s steps(1) infinite;\n",
              "  }\n",
              "\n",
              "  @keyframes spin {\n",
              "    0% {\n",
              "      border-color: transparent;\n",
              "      border-bottom-color: var(--fill-color);\n",
              "      border-left-color: var(--fill-color);\n",
              "    }\n",
              "    20% {\n",
              "      border-color: transparent;\n",
              "      border-left-color: var(--fill-color);\n",
              "      border-top-color: var(--fill-color);\n",
              "    }\n",
              "    30% {\n",
              "      border-color: transparent;\n",
              "      border-left-color: var(--fill-color);\n",
              "      border-top-color: var(--fill-color);\n",
              "      border-right-color: var(--fill-color);\n",
              "    }\n",
              "    40% {\n",
              "      border-color: transparent;\n",
              "      border-right-color: var(--fill-color);\n",
              "      border-top-color: var(--fill-color);\n",
              "    }\n",
              "    60% {\n",
              "      border-color: transparent;\n",
              "      border-right-color: var(--fill-color);\n",
              "    }\n",
              "    80% {\n",
              "      border-color: transparent;\n",
              "      border-right-color: var(--fill-color);\n",
              "      border-bottom-color: var(--fill-color);\n",
              "    }\n",
              "    90% {\n",
              "      border-color: transparent;\n",
              "      border-bottom-color: var(--fill-color);\n",
              "    }\n",
              "  }\n",
              "</style>\n",
              "\n",
              "  <script>\n",
              "    async function quickchart(key) {\n",
              "      const quickchartButtonEl =\n",
              "        document.querySelector('#' + key + ' button');\n",
              "      quickchartButtonEl.disabled = true;  // To prevent multiple clicks.\n",
              "      quickchartButtonEl.classList.add('colab-df-spinner');\n",
              "      try {\n",
              "        const charts = await google.colab.kernel.invokeFunction(\n",
              "            'suggestCharts', [key], {});\n",
              "      } catch (error) {\n",
              "        console.error('Error during call to suggestCharts:', error);\n",
              "      }\n",
              "      quickchartButtonEl.classList.remove('colab-df-spinner');\n",
              "      quickchartButtonEl.classList.add('colab-df-quickchart-complete');\n",
              "    }\n",
              "    (() => {\n",
              "      let quickchartButtonEl =\n",
              "        document.querySelector('#df-b5391296-592b-4fb3-864e-1a0d295f1299 button');\n",
              "      quickchartButtonEl.style.display =\n",
              "        google.colab.kernel.accessAllowed ? 'block' : 'none';\n",
              "    })();\n",
              "  </script>\n",
              "</div>\n",
              "\n",
              "    </div>\n",
              "  </div>\n"
            ],
            "application/vnd.google.colaboratory.intrinsic+json": {
              "type": "dataframe",
              "variable_name": "df_other",
              "summary": "{\n  \"name\": \"df_other\",\n  \"rows\": 39154,\n  \"fields\": [\n    {\n      \"column\": \"sender\",\n      \"properties\": {\n        \"dtype\": \"string\",\n        \"num_unique_values\": 24578,\n        \"samples\": [\n          \"Penny Lang <ilpbw@UAH.EDU>\",\n          \"CNN Alerts <Durham-spanswic@4everfriday.co.uk>\",\n          \"Nick Gall <clfb.uzba@gmail.com>\"\n        ],\n        \"semantic_type\": \"\",\n        \"description\": \"\"\n      }\n    },\n    {\n      \"column\": \"receiver\",\n      \"properties\": {\n        \"dtype\": \"category\",\n        \"num_unique_values\": 3693,\n        \"samples\": [\n          \"debby_u_clolinger@gvc.ceas-challenge.cc\",\n          \"Python Mailing List <rgnbpx-ilvx@python.org>, Python Announce Mailing List <lbrtrc-hfxpsygj-mwlb@python.org>\",\n          \"OC Perl Mongers <pn-bo@pm.org>\"\n        ],\n        \"semantic_type\": \"\",\n        \"description\": \"\"\n      }\n    },\n    {\n      \"column\": \"date\",\n      \"properties\": {\n        \"dtype\": \"string\",\n        \"num_unique_values\": 38658,\n        \"samples\": [\n          \"Wed, 06 Aug 2008 04:32:27 -0200\",\n          \"Fri, 08 Aug 2008 04:52:47 -0400\",\n          \"Wed, 06 Aug 2008 13:08:24 +0000\"\n        ],\n        \"semantic_type\": \"\",\n        \"description\": \"\"\n      }\n    },\n    {\n      \"column\": \"subject\",\n      \"properties\": {\n        \"dtype\": \"category\",\n        \"num_unique_values\": 15436,\n        \"samples\": [\n          \"Order Rolex R*p!ic@ //atches 0nline!  uhz maulhg jutl\",\n          \"Re: [opensuse] WHOIS \\\"Banning someone out of personal spite is uncalled for fascism\\\"\",\n          \"Re: [python-win32] Getting security permissions for folders on\\tremote file share\"\n        ],\n        \"semantic_type\": \"\",\n        \"description\": \"\"\n      }\n    },\n    {\n      \"column\": \"body\",\n      \"properties\": {\n        \"dtype\": \"string\",\n        \"num_unique_values\": 39154,\n        \"samples\": [\n          \"Also, the sa-blacklist inclusion policy is at:\\n\\n   http://www.stearns.org/sa-blacklist/README.policy\\n\\nJeff C.\\n\\n\\n\",\n          \"\\nSize DOES matter - change your life today!\\n\\nAmazing growth within just a few short weeks is possible with this breakthrough! Just two capsules a day, and you can start enjoying a larger, more powerful you. \\n\\nhttp://waitfour.com/\\n\\n\\n\",\n          \">+=+=+=+=+=+=+=+=+=+=+=+=+=+=+=+=+=+=+=+=+=+=+=+=+=+=+=+=+=+= >THE DAILY TOP 10 >from CNN.com >Top videos and stories as of: Aug  1, 2008  3:58 PM EDT >+=+=+=+=+=+=+=+=+=+=+=+=+=+=+=+=+=+=+=+=+=+=+=+=+=+=+=+=+=+= TOP 10 VIDEOS 1. MOM PARTIES AT A CLUB http://www.cnn.com/video/partners/email/index.html?url=/video/crime/2008/08/05/ng.mom.pics.cnn Nancy Grace has new photos of Casey Anthony partying at a nightclub after her daughter Caylee vanished. 2. WOMAN'S COMPUTER SPIES ON HER http://www.cnn.com/video/partners/email/index.html?url=/video/tech/2008/08/05/pkg.webcam.spying.wcjb 3. TIGERS ATTACK TEEN AT ZOO http://www.cnn.com/video/partners/email/index.html?url=/video/us/2008/08/05/wuellner.tiger.attacks.teen.kytv 4. MISTRESS TESTIFIES IN TRIAL http://www.cnn.com/video/partners/email/index.html?url=/video/crime/2008/08/05/sot.love.triangle.zammitti.cnn 5. MAN CALLS 911 OVER SANDWICH http://www.cnn.com/video/partners/email/index.html?url=/video/crime/2008/08/05/spivey.911.call.sandwich.wtlv 6. JOHN 'JUNIOR' GOTTI ARRESTED http://www.cnn.com/video/partners/email/index.html?url=/video/us/2008/08/05/ny.gotti.jr.handcuffs.cnn 7. PASSENGERS SLIDE FROM PLANE http://www.cnn.com/video/partners/email/index.html?url=/video/us/2008/08/05/vo.aa.plane.evacuated.KTLA 8. PLANE EVACUATES PASSENGERS http://www.cnn.com/video/partners/email/index.html?url=/video/us/2008/08/05/nr.beeper.ca.plane.evacuate.cnn 9. PIPELINE FIRM HELPS SAVE GAS http://www.cnn.com/video/partners/email/index.html?url=/video/tech/2008/08/05/marciano.pipeline.telecommuting.cnn 10. 125,000 GORILLAS FOUND http://www.cnn.com/video/partners/email/index.html?url=/video/world/2008/08/05/vo.congo.gorilla.WCS TOP 10 STORIES 1. SMOKE FORCES EMERGENCY LANDING http://www.cnn.com/2008/US/08/05/emergency.landing/index.html Passengers evacuate an American Airlines jet by inflatable slides after an emergency landing at Los Angeles' airport, an official says. 2. HOPES FOR GORILLA SURVIVAL BOOSTED http://www.cnn.com/2008/WORLD/africa/08/05/congo.gorillas/index.html 3. STAY-AT-HOME WIVES WITHOUT KIDS http://www.cnn.com/2008/LIVING/wayoflife/08/05/lw.nokids.nojob.wives/index.html 4. COMMENTARY: IMMIGRANT SANCTUARIES http://www.cnn.com/2008/POLITICS/08/04/navarrette.immigration/index.html 5. FREEMAN RECOVERING AFTER SURGERY http://www.cnn.com/2008/SHOWBIZ/Movies/08/05/people.morgan.freeman.ap/index.html 6. JOHN \\\"JUNIOR\\\" GOTTI ARRESTED http://www.cnn.com/2008/CRIME/08/05/gotti.arrest/index.html 7. TOXIN DIMS HOPES FOR MARS LIFE http://www.cnn.com/2008/TECH/space/08/04/nasa.mars/index.html 8. THE LURE OF THE R-RATED COMEDY http://www.cnn.com/2008/SHOWBIZ/Movies/08/05/film.rrated.comedies.ap/index.html 9. STARBUCKS OFFERS AFTERNOON DEAL http://www.cnn.com/2008/US/08/05/starbucks.deal.ap/index.html 10. EDOUARD MAKES LANDFALL http://www.cnn.com/2008/US/weather/08/05/tropical.weather/index.html CNN, The Most Trusted Name in News >    Cable News Network LP, LLLP.                       < >    One CNN Center, Atlanta, Georgia 30303             < >    2008 Cable News Network LP, LLLP.                  < >    A Time Warner Company.                             < >    All Rights Reserved.                               < ========================================================= =   Please send comments or suggestions by going to     = =           http://www.cnn.com/feedback/                = =                                                       = =      Read our privacy guidelines by going to          = =         http://www.cnn.com/privacy.html               = ========================================================= You have agreed to receive this email from CNN.com as a result of your CNN.com preference settings. To manage your settings, go to: http://www.cnn.com/linkto/bn.manage.html To unsubscribe from the Daily Top 10, go to http://cgi.cnn.com/m/clik?e=f69494124a9b4bb2c4842eafa6666675@gvc.ceas-challenge.cc&l=cnn-dailytop10\"\n        ],\n        \"semantic_type\": \"\",\n        \"description\": \"\"\n      }\n    },\n    {\n      \"column\": \"label\",\n      \"properties\": {\n        \"dtype\": \"number\",\n        \"std\": 0,\n        \"min\": 0,\n        \"max\": 1,\n        \"num_unique_values\": 2,\n        \"samples\": [\n          0,\n          1\n        ],\n        \"semantic_type\": \"\",\n        \"description\": \"\"\n      }\n    },\n    {\n      \"column\": \"urls\",\n      \"properties\": {\n        \"dtype\": \"number\",\n        \"std\": 0,\n        \"min\": 0,\n        \"max\": 1,\n        \"num_unique_values\": 2,\n        \"samples\": [\n          0,\n          1\n        ],\n        \"semantic_type\": \"\",\n        \"description\": \"\"\n      }\n    }\n  ]\n}"
            }
          },
          "metadata": {},
          "execution_count": 44
        }
      ]
    },
    {
      "cell_type": "markdown",
      "source": [
        "Add 2800 spam emails"
      ],
      "metadata": {
        "id": "MMaQIKbNgyHI"
      }
    },
    {
      "cell_type": "code",
      "source": [
        "df_other_spam = df_other[df_other['label'] == 1].sample(n=2800, random_state=42)\n",
        "df = pd.concat([df, df_other_spam], ignore_index=True)"
      ],
      "metadata": {
        "id": "Zcwis5KegXyT"
      },
      "execution_count": 45,
      "outputs": []
    },
    {
      "cell_type": "code",
      "source": [
        "new_label_counts = df['label'].value_counts()\n",
        "print(new_label_counts)"
      ],
      "metadata": {
        "colab": {
          "base_uri": "https://localhost:8080/"
        },
        "id": "jpi2IrFQhz4p",
        "outputId": "93f05ac4-e9be-4644-e791-220ff27fd0b0"
      },
      "execution_count": 46,
      "outputs": [
        {
          "output_type": "stream",
          "name": "stdout",
          "text": [
            "label\n",
            "1    4518\n",
            "0    4091\n",
            "Name: count, dtype: int64\n"
          ]
        }
      ]
    },
    {
      "cell_type": "markdown",
      "source": [
        "### Combine sender, receiver, subject and body columns to create complete emails"
      ],
      "metadata": {
        "id": "TlzpR6iflBki"
      }
    },
    {
      "cell_type": "code",
      "source": [
        "df['email'] = df['sender'] + ' ' + df['receiver'] + ' ' + df['subject'] + ' ' + df['body']\n",
        "df = df.drop(columns=[\"sender\",\"receiver\", \"date\", \"subject\", \"body\", \"urls\"])\n",
        "df = df.reindex(columns=[\"email\", \"label\"])\n",
        "df.head()"
      ],
      "metadata": {
        "colab": {
          "base_uri": "https://localhost:8080/",
          "height": 206
        },
        "id": "EzwhBvzY-GLj",
        "outputId": "54c931bf-24eb-4704-f788-4c35b7d875fb"
      },
      "execution_count": 47,
      "outputs": [
        {
          "output_type": "execute_result",
          "data": {
            "text/plain": [
              "                                               email  label\n",
              "0  Robert Elz <kre@munnari.OZ.AU> Chris Garrigues...      0\n",
              "1  Steve Burt <Steve_Burt@cursor-system.com> \"'zz...      0\n",
              "2  \"Tim Chapman\" <timc@2ubh.com> zzzzteana <zzzzt...      0\n",
              "3  Monty Solomon <monty@roscom.com> undisclosed-r...      0\n",
              "4  Stewart Smith <Stewart.Smith@ee.ed.ac.uk> zzzz...      0"
            ],
            "text/html": [
              "\n",
              "  <div id=\"df-d883df6e-63b2-474f-b5aa-b4590d561e44\" class=\"colab-df-container\">\n",
              "    <div>\n",
              "<style scoped>\n",
              "    .dataframe tbody tr th:only-of-type {\n",
              "        vertical-align: middle;\n",
              "    }\n",
              "\n",
              "    .dataframe tbody tr th {\n",
              "        vertical-align: top;\n",
              "    }\n",
              "\n",
              "    .dataframe thead th {\n",
              "        text-align: right;\n",
              "    }\n",
              "</style>\n",
              "<table border=\"1\" class=\"dataframe\">\n",
              "  <thead>\n",
              "    <tr style=\"text-align: right;\">\n",
              "      <th></th>\n",
              "      <th>email</th>\n",
              "      <th>label</th>\n",
              "    </tr>\n",
              "  </thead>\n",
              "  <tbody>\n",
              "    <tr>\n",
              "      <th>0</th>\n",
              "      <td>Robert Elz &lt;kre@munnari.OZ.AU&gt; Chris Garrigues...</td>\n",
              "      <td>0</td>\n",
              "    </tr>\n",
              "    <tr>\n",
              "      <th>1</th>\n",
              "      <td>Steve Burt &lt;Steve_Burt@cursor-system.com&gt; \"'zz...</td>\n",
              "      <td>0</td>\n",
              "    </tr>\n",
              "    <tr>\n",
              "      <th>2</th>\n",
              "      <td>\"Tim Chapman\" &lt;timc@2ubh.com&gt; zzzzteana &lt;zzzzt...</td>\n",
              "      <td>0</td>\n",
              "    </tr>\n",
              "    <tr>\n",
              "      <th>3</th>\n",
              "      <td>Monty Solomon &lt;monty@roscom.com&gt; undisclosed-r...</td>\n",
              "      <td>0</td>\n",
              "    </tr>\n",
              "    <tr>\n",
              "      <th>4</th>\n",
              "      <td>Stewart Smith &lt;Stewart.Smith@ee.ed.ac.uk&gt; zzzz...</td>\n",
              "      <td>0</td>\n",
              "    </tr>\n",
              "  </tbody>\n",
              "</table>\n",
              "</div>\n",
              "    <div class=\"colab-df-buttons\">\n",
              "\n",
              "  <div class=\"colab-df-container\">\n",
              "    <button class=\"colab-df-convert\" onclick=\"convertToInteractive('df-d883df6e-63b2-474f-b5aa-b4590d561e44')\"\n",
              "            title=\"Convert this dataframe to an interactive table.\"\n",
              "            style=\"display:none;\">\n",
              "\n",
              "  <svg xmlns=\"http://www.w3.org/2000/svg\" height=\"24px\" viewBox=\"0 -960 960 960\">\n",
              "    <path d=\"M120-120v-720h720v720H120Zm60-500h600v-160H180v160Zm220 220h160v-160H400v160Zm0 220h160v-160H400v160ZM180-400h160v-160H180v160Zm440 0h160v-160H620v160ZM180-180h160v-160H180v160Zm440 0h160v-160H620v160Z\"/>\n",
              "  </svg>\n",
              "    </button>\n",
              "\n",
              "  <style>\n",
              "    .colab-df-container {\n",
              "      display:flex;\n",
              "      gap: 12px;\n",
              "    }\n",
              "\n",
              "    .colab-df-convert {\n",
              "      background-color: #E8F0FE;\n",
              "      border: none;\n",
              "      border-radius: 50%;\n",
              "      cursor: pointer;\n",
              "      display: none;\n",
              "      fill: #1967D2;\n",
              "      height: 32px;\n",
              "      padding: 0 0 0 0;\n",
              "      width: 32px;\n",
              "    }\n",
              "\n",
              "    .colab-df-convert:hover {\n",
              "      background-color: #E2EBFA;\n",
              "      box-shadow: 0px 1px 2px rgba(60, 64, 67, 0.3), 0px 1px 3px 1px rgba(60, 64, 67, 0.15);\n",
              "      fill: #174EA6;\n",
              "    }\n",
              "\n",
              "    .colab-df-buttons div {\n",
              "      margin-bottom: 4px;\n",
              "    }\n",
              "\n",
              "    [theme=dark] .colab-df-convert {\n",
              "      background-color: #3B4455;\n",
              "      fill: #D2E3FC;\n",
              "    }\n",
              "\n",
              "    [theme=dark] .colab-df-convert:hover {\n",
              "      background-color: #434B5C;\n",
              "      box-shadow: 0px 1px 3px 1px rgba(0, 0, 0, 0.15);\n",
              "      filter: drop-shadow(0px 1px 2px rgba(0, 0, 0, 0.3));\n",
              "      fill: #FFFFFF;\n",
              "    }\n",
              "  </style>\n",
              "\n",
              "    <script>\n",
              "      const buttonEl =\n",
              "        document.querySelector('#df-d883df6e-63b2-474f-b5aa-b4590d561e44 button.colab-df-convert');\n",
              "      buttonEl.style.display =\n",
              "        google.colab.kernel.accessAllowed ? 'block' : 'none';\n",
              "\n",
              "      async function convertToInteractive(key) {\n",
              "        const element = document.querySelector('#df-d883df6e-63b2-474f-b5aa-b4590d561e44');\n",
              "        const dataTable =\n",
              "          await google.colab.kernel.invokeFunction('convertToInteractive',\n",
              "                                                    [key], {});\n",
              "        if (!dataTable) return;\n",
              "\n",
              "        const docLinkHtml = 'Like what you see? Visit the ' +\n",
              "          '<a target=\"_blank\" href=https://colab.research.google.com/notebooks/data_table.ipynb>data table notebook</a>'\n",
              "          + ' to learn more about interactive tables.';\n",
              "        element.innerHTML = '';\n",
              "        dataTable['output_type'] = 'display_data';\n",
              "        await google.colab.output.renderOutput(dataTable, element);\n",
              "        const docLink = document.createElement('div');\n",
              "        docLink.innerHTML = docLinkHtml;\n",
              "        element.appendChild(docLink);\n",
              "      }\n",
              "    </script>\n",
              "  </div>\n",
              "\n",
              "\n",
              "<div id=\"df-541ad154-e0d9-445f-a9cd-3ee185dcef49\">\n",
              "  <button class=\"colab-df-quickchart\" onclick=\"quickchart('df-541ad154-e0d9-445f-a9cd-3ee185dcef49')\"\n",
              "            title=\"Suggest charts\"\n",
              "            style=\"display:none;\">\n",
              "\n",
              "<svg xmlns=\"http://www.w3.org/2000/svg\" height=\"24px\"viewBox=\"0 0 24 24\"\n",
              "     width=\"24px\">\n",
              "    <g>\n",
              "        <path d=\"M19 3H5c-1.1 0-2 .9-2 2v14c0 1.1.9 2 2 2h14c1.1 0 2-.9 2-2V5c0-1.1-.9-2-2-2zM9 17H7v-7h2v7zm4 0h-2V7h2v10zm4 0h-2v-4h2v4z\"/>\n",
              "    </g>\n",
              "</svg>\n",
              "  </button>\n",
              "\n",
              "<style>\n",
              "  .colab-df-quickchart {\n",
              "      --bg-color: #E8F0FE;\n",
              "      --fill-color: #1967D2;\n",
              "      --hover-bg-color: #E2EBFA;\n",
              "      --hover-fill-color: #174EA6;\n",
              "      --disabled-fill-color: #AAA;\n",
              "      --disabled-bg-color: #DDD;\n",
              "  }\n",
              "\n",
              "  [theme=dark] .colab-df-quickchart {\n",
              "      --bg-color: #3B4455;\n",
              "      --fill-color: #D2E3FC;\n",
              "      --hover-bg-color: #434B5C;\n",
              "      --hover-fill-color: #FFFFFF;\n",
              "      --disabled-bg-color: #3B4455;\n",
              "      --disabled-fill-color: #666;\n",
              "  }\n",
              "\n",
              "  .colab-df-quickchart {\n",
              "    background-color: var(--bg-color);\n",
              "    border: none;\n",
              "    border-radius: 50%;\n",
              "    cursor: pointer;\n",
              "    display: none;\n",
              "    fill: var(--fill-color);\n",
              "    height: 32px;\n",
              "    padding: 0;\n",
              "    width: 32px;\n",
              "  }\n",
              "\n",
              "  .colab-df-quickchart:hover {\n",
              "    background-color: var(--hover-bg-color);\n",
              "    box-shadow: 0 1px 2px rgba(60, 64, 67, 0.3), 0 1px 3px 1px rgba(60, 64, 67, 0.15);\n",
              "    fill: var(--button-hover-fill-color);\n",
              "  }\n",
              "\n",
              "  .colab-df-quickchart-complete:disabled,\n",
              "  .colab-df-quickchart-complete:disabled:hover {\n",
              "    background-color: var(--disabled-bg-color);\n",
              "    fill: var(--disabled-fill-color);\n",
              "    box-shadow: none;\n",
              "  }\n",
              "\n",
              "  .colab-df-spinner {\n",
              "    border: 2px solid var(--fill-color);\n",
              "    border-color: transparent;\n",
              "    border-bottom-color: var(--fill-color);\n",
              "    animation:\n",
              "      spin 1s steps(1) infinite;\n",
              "  }\n",
              "\n",
              "  @keyframes spin {\n",
              "    0% {\n",
              "      border-color: transparent;\n",
              "      border-bottom-color: var(--fill-color);\n",
              "      border-left-color: var(--fill-color);\n",
              "    }\n",
              "    20% {\n",
              "      border-color: transparent;\n",
              "      border-left-color: var(--fill-color);\n",
              "      border-top-color: var(--fill-color);\n",
              "    }\n",
              "    30% {\n",
              "      border-color: transparent;\n",
              "      border-left-color: var(--fill-color);\n",
              "      border-top-color: var(--fill-color);\n",
              "      border-right-color: var(--fill-color);\n",
              "    }\n",
              "    40% {\n",
              "      border-color: transparent;\n",
              "      border-right-color: var(--fill-color);\n",
              "      border-top-color: var(--fill-color);\n",
              "    }\n",
              "    60% {\n",
              "      border-color: transparent;\n",
              "      border-right-color: var(--fill-color);\n",
              "    }\n",
              "    80% {\n",
              "      border-color: transparent;\n",
              "      border-right-color: var(--fill-color);\n",
              "      border-bottom-color: var(--fill-color);\n",
              "    }\n",
              "    90% {\n",
              "      border-color: transparent;\n",
              "      border-bottom-color: var(--fill-color);\n",
              "    }\n",
              "  }\n",
              "</style>\n",
              "\n",
              "  <script>\n",
              "    async function quickchart(key) {\n",
              "      const quickchartButtonEl =\n",
              "        document.querySelector('#' + key + ' button');\n",
              "      quickchartButtonEl.disabled = true;  // To prevent multiple clicks.\n",
              "      quickchartButtonEl.classList.add('colab-df-spinner');\n",
              "      try {\n",
              "        const charts = await google.colab.kernel.invokeFunction(\n",
              "            'suggestCharts', [key], {});\n",
              "      } catch (error) {\n",
              "        console.error('Error during call to suggestCharts:', error);\n",
              "      }\n",
              "      quickchartButtonEl.classList.remove('colab-df-spinner');\n",
              "      quickchartButtonEl.classList.add('colab-df-quickchart-complete');\n",
              "    }\n",
              "    (() => {\n",
              "      let quickchartButtonEl =\n",
              "        document.querySelector('#df-541ad154-e0d9-445f-a9cd-3ee185dcef49 button');\n",
              "      quickchartButtonEl.style.display =\n",
              "        google.colab.kernel.accessAllowed ? 'block' : 'none';\n",
              "    })();\n",
              "  </script>\n",
              "</div>\n",
              "\n",
              "    </div>\n",
              "  </div>\n"
            ],
            "application/vnd.google.colaboratory.intrinsic+json": {
              "type": "dataframe",
              "variable_name": "df",
              "summary": "{\n  \"name\": \"df\",\n  \"rows\": 8609,\n  \"fields\": [\n    {\n      \"column\": \"email\",\n      \"properties\": {\n        \"dtype\": \"string\",\n        \"num_unique_values\": 8382,\n        \"samples\": [\n          \"Marc Perkel <marc@perkel.com> razor-users@example.sourceforge.net [Razor-users] My razor identity reputation score As I understand it - the central database keeps a score of a reporters \\nelectronic \\\"reputation\\\". Is there any way for me to read this? I want to \\nbe able to tell how many messages I sent and if there were any revokes?\\n\\n\\n\\n-------------------------------------------------------\\nThis sf.net email is sponsored by:ThinkGeek\\nWelcome to geek heaven.\\nhttp://thinkgeek.com/sf\\n_______________________________________________\\nRazor-users mailing list\\nRazor-users@lists.sourceforge.net\\nhttps://lists.sourceforge.net/lists/listinfo/razor-users\",\n          \"Christopher Anderson <ChristopherlyingRobinson@greenspun.com> edt@gvc.ceas-challenge.cc Choice IWC replica watches at Replica Classics    \\nBest replica watches from IWC at Replica Classics \\n\\nOne Year written replica watches warranty\\n\\nLooking for Tag Heur replica? Visit Replica Classics   \\n\\nhttp://dryadsnedsjaw.com/\\n\\n\\n\",\n          \"We Make You Healthy <psjpiracha@tmail.com> user8.2-ext2@gvc.ceas-challenge.cc Enjoy Prices in our Drugstore I strongly recommend you to switch to the Canadian Healthcare online store. We keep monitoring their products every once in a while so I can say that buying your pills from them will be a much safer thing to do.\\n\\nThe best place to shop for your generic products.\\nhttp://mineintuition.com\\n\\nAnd improve your sexual life. Only Confidential purchase. Verified by VISA. \\n\\n\"\n        ],\n        \"semantic_type\": \"\",\n        \"description\": \"\"\n      }\n    },\n    {\n      \"column\": \"label\",\n      \"properties\": {\n        \"dtype\": \"number\",\n        \"std\": 0,\n        \"min\": 0,\n        \"max\": 1,\n        \"num_unique_values\": 2,\n        \"samples\": [\n          1,\n          0\n        ],\n        \"semantic_type\": \"\",\n        \"description\": \"\"\n      }\n    }\n  ]\n}"
            }
          },
          "metadata": {},
          "execution_count": 47
        }
      ]
    },
    {
      "cell_type": "markdown",
      "source": [
        "Total emails present in the combined dataset"
      ],
      "metadata": {
        "id": "KuYlWORKLVlT"
      }
    },
    {
      "cell_type": "code",
      "source": [
        "df.shape[0]"
      ],
      "metadata": {
        "colab": {
          "base_uri": "https://localhost:8080/"
        },
        "id": "s6gOR-owLUbS",
        "outputId": "561bd127-dc1f-4640-fa16-a138cb21a94f"
      },
      "execution_count": 48,
      "outputs": [
        {
          "output_type": "execute_result",
          "data": {
            "text/plain": [
              "8609"
            ]
          },
          "metadata": {},
          "execution_count": 48
        }
      ]
    },
    {
      "cell_type": "markdown",
      "source": [
        "Plot the distribution of labels in the combined dataset"
      ],
      "metadata": {
        "id": "7PP8rEBHm9iH"
      }
    },
    {
      "cell_type": "code",
      "source": [
        "plt.figure(figsize=(8, 6))\n",
        "sns.countplot(x='label', hue='label', data=df, palette='Set2')\n",
        "plt.xticks([0, 1], ['Ham', 'Spam'])\n",
        "plt.title('Distribution of Labels')\n",
        "plt.xlabel('Label')\n",
        "plt.ylabel('Count')\n",
        "plt.show()"
      ],
      "metadata": {
        "colab": {
          "base_uri": "https://localhost:8080/",
          "height": 564
        },
        "id": "O3aWI7Kum8MX",
        "outputId": "e1497a3b-b10f-49df-a673-64a0855f5200"
      },
      "execution_count": 64,
      "outputs": [
        {
          "output_type": "display_data",
          "data": {
            "text/plain": [
              "<Figure size 800x600 with 1 Axes>"
            ],
            "image/png": "[encoded data removed]"
          },
          "metadata": {}
        }
      ]
    },
    {
      "cell_type": "markdown",
      "source": [
        "### Split the combined dataset into train and test sets"
      ],
      "metadata": {
        "id": "JbXPwM102kd5"
      }
    },
    {
      "cell_type": "code",
      "source": [
        "X = df['email']\n",
        "y = df['label']\n",
        "\n",
        "X_train, X_test, y_train, y_test = train_test_split(X, y, test_size=0.2, random_state=42)\n",
        "\n",
        "X_train.shape, X_test.shape, y_train.shape, y_test.shape"
      ],
      "metadata": {
        "colab": {
          "base_uri": "https://localhost:8080/"
        },
        "id": "K5sTNAk91PRj",
        "outputId": "1d9e6532-651a-411c-97d8-59e44f38c9dc"
      },
      "execution_count": 50,
      "outputs": [
        {
          "output_type": "execute_result",
          "data": {
            "text/plain": [
              "((6887,), (1722,), (6887,), (1722,))"
            ]
          },
          "metadata": {},
          "execution_count": 50
        }
      ]
    },
    {
      "cell_type": "markdown",
      "source": [
        "### Let's create a train folder which contains two folders - spam and ham, and store the train emails ($X_{train}$) as `.txt` files in the two folders accordingly."
      ],
      "metadata": {
        "id": "72M9GTc03oo9"
      }
    },
    {
      "cell_type": "code",
      "source": [
        "def save_train_emails(X, y):\n",
        "    if not os.path.exists('train'):\n",
        "        os.makedirs('train')\n",
        "    if not os.path.exists('train/spam'):\n",
        "        os.makedirs('train/spam')\n",
        "    if not os.path.exists('train/ham'):\n",
        "        os.makedirs('train/ham')\n",
        "\n",
        "    for index, (email, label) in enumerate(zip(X, y)):\n",
        "        email = str(email)\n",
        "        if label == 1:\n",
        "            with open(f'train/spam/email_{index}.txt', 'w') as f:\n",
        "                f.write(email)\n",
        "        else:\n",
        "            with open(f'train/ham/email_{index}.txt', 'w') as f:\n",
        "                f.write(email)\n",
        "\n",
        "save_train_emails(X_train, y_train)"
      ],
      "metadata": {
        "id": "Tc4j0e5f3s5m"
      },
      "execution_count": 53,
      "outputs": []
    },
    {
      "cell_type": "markdown",
      "source": [
        "### Let's create a test folder which contains two folders - spam and ham, and store the test emails ($X_{test}$) as `.txt` files in the two folders accordingly."
      ],
      "metadata": {
        "id": "8lM9YPXTo-9B"
      }
    },
    {
      "cell_type": "code",
      "source": [
        "def save_test_emails(X, y):\n",
        "    if not os.path.exists('test'):\n",
        "        os.makedirs('test')\n",
        "    if not os.path.exists('test/spam'):\n",
        "        os.makedirs('test/spam')\n",
        "    if not os.path.exists('test/ham'):\n",
        "        os.makedirs('test/ham')\n",
        "\n",
        "    for index, (email, label) in enumerate(zip(X, y)):\n",
        "        email = str(email)\n",
        "        if label == 1:\n",
        "            with open(f'test/spam/email_{index}.txt', 'w') as f:\n",
        "                f.write(email)\n",
        "        else:\n",
        "            with open(f'test/ham/email_{index}.txt', 'w') as f:\n",
        "                f.write(email)\n",
        "\n",
        "save_test_emails(X_test, y_test)"
      ],
      "metadata": {
        "id": "519_wYQz_NnJ"
      },
      "execution_count": 54,
      "outputs": []
    },
    {
      "cell_type": "markdown",
      "source": [
        "### We will use `NaiveBayesClassifier` for solving the spam classification problem. Let's define a class for the classifier."
      ],
      "metadata": {
        "id": "lCKAq1VBz8m3"
      }
    },
    {
      "cell_type": "code",
      "source": [
        "class NaiveBayesClassifier:\n",
        "    def __init__(self):\n",
        "        self.spam_prior = 0\n",
        "        self.ham_prior = 0\n",
        "        self.spam_word_probs = {}\n",
        "        self.ham_word_probs = {}\n",
        "        self.spam_word_count = defaultdict(int)\n",
        "        self.ham_word_count = defaultdict(int)\n",
        "        self.total_spam_words = 0\n",
        "        self.total_ham_words = 0\n",
        "\n",
        "\n",
        "    # Load emails\n",
        "    def load_emails(self, directory):\n",
        "        emails = []\n",
        "        for filename in os.listdir(directory):\n",
        "            with open(os.path.join(directory, filename), 'r', encoding='latin-1') as f:\n",
        "                emails.append(f.read())\n",
        "        return emails\n",
        "\n",
        "\n",
        "    # Data Preprocessing - Find and return all individual words in the email, excluding punctuations\n",
        "    def preprocess_email(self, content):      # Content is the text present in an email\n",
        "        content = content.lower()\n",
        "        tokenized_words = re.findall(r'\\b\\w+\\b', content)\n",
        "        return tokenized_words\n",
        "\n",
        "\n",
        "    # Extract features (Bag of Words)\n",
        "    def extract_features(self, content):\n",
        "        tokenized_words = self.preprocess_email(content)\n",
        "        word_freqs = Counter(tokenized_words)\n",
        "        return word_freqs               # A dictionary-like object where keys are words and values are their frequencies.\n",
        "\n",
        "\n",
        "    # Train the classifier\n",
        "    def train(self, spam_dir, ham_dir):\n",
        "\n",
        "        # Email count\n",
        "        spam_emails = self.load_emails(spam_dir)\n",
        "        ham_emails = self.load_emails(ham_dir)\n",
        "        total_emails = len(spam_emails) + len(ham_emails)\n",
        "\n",
        "        # Set priors\n",
        "        self.spam_prior = len(spam_emails) / total_emails\n",
        "        self.ham_prior = len(ham_emails) / total_emails\n",
        "\n",
        "        # Count words in emails\n",
        "        for email in spam_emails:\n",
        "            word_freqs = self.extract_features(email)\n",
        "            for word, freq in word_freqs.items():\n",
        "                self.spam_word_count[word] += freq\n",
        "                self.total_spam_words += freq\n",
        "\n",
        "        for email in ham_emails:\n",
        "            word_freqs = self.extract_features(email)\n",
        "            for word, freq in word_freqs.items():\n",
        "                self.ham_word_count[word] += freq\n",
        "                self.total_ham_words += freq\n",
        "\n",
        "        # Calculate word probabilities with Laplace smoothing\n",
        "        vocab = set(list(self.spam_word_count.keys()) + list(self.ham_word_count.keys()))\n",
        "        vocab_size = len(vocab)\n",
        "\n",
        "        for word in vocab:\n",
        "            self.spam_word_probs[word] = (self.spam_word_count[word] + 1) / (self.total_spam_words + vocab_size)\n",
        "            self.ham_word_probs[word] = (self.ham_word_count[word] + 1) / (self.total_ham_words + vocab_size)\n",
        "\n",
        "\n",
        "    # Prediction\n",
        "    def predict(self, content):\n",
        "        word_freqs = self.extract_features(content)\n",
        "\n",
        "        # Calculate the log probabilities for spam and ham\n",
        "        spam_score = math.log(self.spam_prior)\n",
        "        ham_score = math.log(self.ham_prior)\n",
        "\n",
        "        for word, freq in word_freqs.items():\n",
        "            # Use Laplace smoothing if the word does not exists\n",
        "            spam_score += freq * math.log(self.spam_word_probs.get(word, 1 / (self.total_spam_words + len(self.spam_word_probs))))\n",
        "            ham_score += freq * math.log(self.ham_word_probs.get(word, 1 / (self.total_ham_words + len(self.ham_word_probs))))\n",
        "\n",
        "        if spam_score > ham_score:\n",
        "            return 1\n",
        "        else:\n",
        "            return 0\n",
        "\n",
        "\n",
        "    # Classify the emails in a folder\n",
        "    def classify_emails(self, dir):\n",
        "        predicted_labels = []\n",
        "        for filename in os.listdir(dir):\n",
        "            if os.path.isfile(os.path.join(dir, filename)):\n",
        "              with open(os.path.join(dir, filename), 'r', encoding='latin-1') as f:\n",
        "                  email = f.read()\n",
        "                  prediction = self.predict(email)\n",
        "                  predicted_labels.append(prediction)\n",
        "        return predicted_labels\n",
        "\n",
        "\n",
        "    # Accuracy\n",
        "    def accuracy(self, true_labels, predicted_labels):\n",
        "        correct = sum(1 for true, pred in zip(true_labels, predicted_labels) if true == pred)\n",
        "        total = len(true_labels)\n",
        "        return correct / total"
      ],
      "metadata": {
        "id": "MfDizOMd0urh"
      },
      "execution_count": 55,
      "outputs": []
    },
    {
      "cell_type": "markdown",
      "source": [
        "### Let's build the model using `NaiveBayesClassifier`."
      ],
      "metadata": {
        "id": "uEZWGU2rRrG5"
      }
    },
    {
      "cell_type": "code",
      "source": [
        "nb_classifier = NaiveBayesClassifier()\n",
        "nb_classifier.train('train/spam', 'train/ham')"
      ],
      "metadata": {
        "id": "DyrWCH78S_DW"
      },
      "execution_count": 56,
      "outputs": []
    },
    {
      "cell_type": "markdown",
      "source": [
        "### Prediction for test spam emails"
      ],
      "metadata": {
        "id": "K-E5fd3GU61_"
      }
    },
    {
      "cell_type": "code",
      "source": [
        "spam_prediction = nb_classifier.classify_emails('test/spam')\n",
        "print(spam_prediction)\n",
        "spam_labels = [1] * len(spam_prediction)\n",
        "print(f'Total number of test spam emails: {len(spam_prediction)}')\n",
        "print(f'Number of spam emails that are correctly classfied: {sum(spam_prediction)}')\n",
        "print(f'Number of spam emails that are incorrectly classfied: {len(spam_prediction) - sum(spam_prediction)}')\n",
        "spam_accuracy = nb_classifier.accuracy(spam_labels, spam_prediction)\n",
        "print(f\"Accuracy for test spam emails: {spam_accuracy:.2f}\")"
      ],
      "metadata": {
        "colab": {
          "base_uri": "https://localhost:8080/"
        },
        "id": "v2AeT9LPU9qd",
        "outputId": "2dd98400-598d-4fd8-b019-dae746519f17"
      },
      "execution_count": 57,
      "outputs": [
        {
          "output_type": "stream",
          "name": "stdout",
          "text": [
            "[1, 1, 1, 1, 1, 1, 0, 1, 1, 1, 1, 1, 1, 1, 1, 1, 1, 1, 1, 1, 1, 1, 1, 1, 1, 1, 1, 1, 1, 1, 1, 1, 1, 1, 0, 1, 1, 1, 1, 1, 1, 1, 1, 1, 1, 1, 1, 1, 1, 1, 1, 1, 1, 1, 1, 1, 1, 0, 1, 1, 1, 1, 1, 1, 1, 1, 1, 1, 1, 1, 1, 1, 1, 1, 1, 1, 1, 1, 0, 1, 1, 1, 1, 1, 1, 1, 1, 1, 1, 1, 1, 1, 0, 1, 1, 0, 1, 1, 1, 1, 1, 1, 1, 1, 1, 1, 1, 1, 1, 1, 1, 1, 1, 1, 1, 1, 1, 1, 1, 1, 1, 1, 1, 1, 1, 1, 1, 1, 1, 1, 1, 1, 1, 1, 0, 1, 1, 0, 1, 1, 1, 1, 0, 1, 1, 1, 1, 1, 1, 1, 1, 1, 1, 1, 1, 1, 1, 1, 1, 1, 1, 1, 1, 1, 1, 1, 1, 1, 1, 1, 1, 1, 1, 1, 1, 1, 1, 1, 1, 1, 1, 1, 1, 1, 0, 1, 1, 1, 0, 1, 1, 1, 1, 1, 1, 1, 1, 1, 1, 1, 1, 1, 1, 1, 1, 1, 1, 1, 0, 1, 1, 1, 1, 1, 1, 1, 1, 1, 1, 1, 1, 1, 1, 1, 1, 1, 1, 1, 1, 0, 1, 1, 1, 1, 1, 1, 1, 1, 1, 1, 1, 1, 1, 1, 1, 1, 1, 1, 1, 1, 1, 1, 0, 1, 1, 1, 1, 1, 1, 1, 1, 1, 1, 1, 1, 1, 1, 1, 1, 1, 1, 1, 1, 1, 1, 1, 1, 1, 1, 1, 1, 1, 1, 1, 1, 1, 1, 1, 1, 1, 1, 1, 1, 1, 1, 1, 1, 1, 1, 1, 1, 1, 1, 1, 1, 1, 1, 1, 1, 0, 1, 1, 1, 0, 1, 1, 1, 1, 1, 1, 1, 1, 1, 1, 1, 1, 1, 1, 1, 1, 1, 1, 1, 1, 1, 1, 1, 1, 1, 1, 1, 1, 1, 1, 1, 1, 1, 1, 1, 1, 1, 1, 1, 1, 1, 1, 1, 1, 1, 1, 1, 1, 0, 1, 1, 1, 1, 1, 1, 1, 1, 1, 1, 1, 1, 1, 1, 1, 1, 1, 1, 1, 1, 1, 1, 1, 1, 1, 1, 1, 1, 1, 1, 0, 1, 1, 1, 1, 0, 1, 1, 1, 1, 1, 1, 1, 1, 1, 1, 1, 1, 1, 1, 1, 1, 1, 1, 1, 1, 1, 1, 1, 1, 1, 1, 0, 1, 0, 1, 1, 1, 1, 1, 1, 1, 1, 1, 1, 1, 1, 1, 1, 1, 1, 1, 1, 1, 1, 1, 1, 1, 1, 1, 1, 1, 0, 1, 1, 1, 1, 1, 1, 1, 1, 1, 1, 0, 1, 1, 1, 1, 1, 1, 1, 1, 1, 1, 1, 1, 1, 1, 1, 1, 1, 1, 1, 1, 1, 1, 1, 1, 1, 1, 1, 1, 1, 1, 1, 1, 1, 1, 1, 1, 1, 1, 1, 1, 1, 1, 1, 1, 1, 1, 1, 1, 1, 1, 1, 1, 1, 1, 1, 1, 1, 1, 1, 1, 1, 1, 1, 1, 1, 1, 0, 1, 1, 1, 1, 1, 1, 1, 1, 1, 1, 1, 1, 1, 0, 1, 1, 1, 1, 1, 1, 1, 1, 1, 1, 1, 1, 1, 1, 1, 1, 1, 1, 1, 1, 1, 0, 0, 1, 1, 1, 1, 1, 1, 1, 1, 1, 1, 1, 1, 1, 1, 1, 1, 1, 1, 0, 1, 1, 1, 1, 1, 1, 1, 1, 1, 1, 1, 1, 1, 1, 1, 1, 1, 1, 0, 1, 1, 0, 1, 1, 1, 1, 0, 1, 0, 1, 1, 0, 1, 1, 1, 1, 1, 1, 0, 1, 1, 1, 1, 1, 1, 1, 1, 0, 1, 1, 1, 1, 1, 1, 1, 1, 1, 1, 1, 1, 1, 0, 1, 1, 1, 0, 0, 1, 1, 1, 1, 1, 1, 1, 0, 1, 1, 1, 1, 1, 1, 1, 1, 1, 1, 1, 1, 1, 1, 1, 1, 1, 1, 1, 1, 1, 1, 1, 1, 1, 1, 1, 1, 1, 1, 1, 1, 1, 1, 1, 1, 1, 1, 1, 1, 1, 1, 1, 1, 1, 1, 1, 1, 1, 1, 1, 1, 1, 1, 1, 1, 1, 1, 1, 1, 0, 1, 1, 1, 1, 1, 1, 1, 1, 1, 1, 1, 1, 1, 1, 1, 1, 1, 1, 1, 1, 1, 1, 1, 1, 1, 1, 1, 1, 1, 1, 1, 1, 1, 1, 1, 1, 1, 1, 1, 1, 1, 1, 1, 1, 1, 1, 1, 1, 1, 1, 1, 1, 1, 1, 1, 1, 1, 1, 1, 1, 1, 1, 1, 1, 1, 1, 1, 1, 1, 1, 1, 1, 1, 1, 1, 1, 1, 1, 1, 1, 1, 0, 1, 1, 1, 1, 1, 1, 1, 1, 1, 1, 1, 1, 1, 1, 1, 1, 1, 1, 1, 1, 1, 1, 1, 1, 1, 1, 1, 1, 1, 1, 1, 1, 1, 1, 1, 1, 1, 1, 1, 1, 1, 1, 1, 1, 1, 1, 1, 1, 1, 1, 1, 1, 1, 0, 1, 1, 1, 1, 1, 0, 1, 1, 1, 1, 1, 1, 1, 1, 1, 1, 1, 1, 1, 1, 1, 1, 1, 1, 1, 1, 1, 1, 1, 1, 1, 1, 1, 1, 1, 1]\n",
            "Total number of test spam emails: 898\n",
            "Number of spam emails that are correctly classfied: 855\n",
            "Number of spam emails that are incorrectly classfied: 43\n",
            "Accuracy for test spam emails: 0.95\n"
          ]
        }
      ]
    },
    {
      "cell_type": "markdown",
      "source": [
        "### Prediction for test ham emails"
      ],
      "metadata": {
        "id": "a_iCYfVRWo4b"
      }
    },
    {
      "cell_type": "code",
      "source": [
        "ham_prediction = nb_classifier.classify_emails('test/ham')\n",
        "print(ham_prediction)\n",
        "ham_labels = [0] * len(ham_prediction)\n",
        "print(f'Total number of test ham emails: {len(ham_prediction)}')\n",
        "print(f'Number of ham emails that are correctly classfied: {len(ham_prediction) - sum(ham_prediction)}')\n",
        "print(f'Number of ham emails that are incorrectly classfied: {sum(ham_prediction)}')\n",
        "ham_accuracy = nb_classifier.accuracy(ham_labels, ham_prediction)\n",
        "print(f\"Accuracy for test ham emails: {ham_accuracy:.2f}\")"
      ],
      "metadata": {
        "colab": {
          "base_uri": "https://localhost:8080/"
        },
        "id": "Qapd9FygWu_f",
        "outputId": "753e03c2-0f96-4da9-fad6-e738e4136524"
      },
      "execution_count": 58,
      "outputs": [
        {
          "output_type": "stream",
          "name": "stdout",
          "text": [
            "[0, 0, 0, 0, 0, 0, 0, 0, 0, 0, 0, 0, 0, 0, 0, 0, 0, 0, 0, 0, 0, 0, 0, 0, 0, 0, 0, 0, 0, 0, 0, 0, 0, 0, 0, 0, 0, 0, 0, 0, 0, 0, 0, 0, 0, 0, 0, 0, 0, 0, 0, 0, 0, 0, 0, 0, 0, 0, 0, 0, 0, 0, 0, 0, 0, 0, 0, 0, 0, 0, 0, 0, 0, 0, 0, 0, 0, 0, 0, 0, 0, 0, 0, 0, 0, 0, 0, 0, 0, 0, 0, 0, 1, 0, 0, 0, 0, 0, 0, 0, 0, 0, 0, 0, 0, 1, 0, 0, 0, 0, 0, 0, 0, 0, 0, 0, 0, 0, 0, 0, 0, 0, 0, 0, 0, 0, 0, 0, 0, 0, 0, 0, 0, 0, 0, 0, 0, 0, 0, 0, 0, 0, 0, 0, 0, 0, 0, 0, 0, 0, 0, 0, 0, 0, 0, 0, 0, 0, 0, 0, 0, 0, 0, 0, 0, 0, 0, 0, 0, 0, 0, 0, 0, 0, 0, 0, 0, 0, 0, 0, 0, 0, 0, 0, 0, 0, 0, 0, 0, 0, 0, 0, 0, 0, 0, 0, 0, 0, 0, 0, 0, 0, 0, 0, 0, 0, 0, 0, 0, 0, 0, 0, 0, 0, 0, 0, 0, 0, 0, 0, 0, 0, 0, 0, 0, 0, 0, 0, 0, 0, 0, 0, 0, 0, 0, 0, 0, 0, 0, 0, 0, 0, 0, 0, 0, 0, 0, 0, 0, 0, 0, 0, 0, 0, 0, 0, 0, 0, 0, 0, 0, 0, 0, 0, 0, 0, 0, 0, 0, 0, 0, 0, 0, 0, 0, 0, 0, 0, 0, 0, 0, 0, 0, 0, 0, 0, 0, 0, 0, 0, 0, 0, 0, 0, 0, 0, 0, 0, 0, 0, 0, 0, 0, 0, 0, 0, 0, 0, 0, 0, 0, 0, 0, 0, 0, 0, 0, 0, 0, 0, 0, 0, 0, 0, 0, 0, 0, 0, 0, 0, 0, 0, 0, 0, 0, 0, 0, 0, 0, 0, 0, 0, 0, 0, 0, 0, 0, 0, 0, 0, 0, 0, 0, 0, 0, 0, 0, 0, 0, 0, 0, 0, 0, 0, 0, 0, 0, 0, 0, 0, 0, 0, 0, 0, 0, 0, 0, 0, 0, 0, 0, 0, 0, 0, 0, 0, 0, 0, 0, 0, 0, 0, 0, 0, 0, 0, 0, 0, 0, 0, 0, 0, 0, 0, 0, 0, 0, 0, 0, 0, 0, 0, 0, 0, 0, 0, 0, 0, 0, 0, 0, 0, 0, 0, 0, 0, 0, 0, 0, 0, 0, 0, 0, 0, 0, 0, 0, 0, 0, 0, 0, 0, 0, 0, 0, 0, 0, 0, 0, 0, 0, 0, 0, 0, 0, 0, 0, 0, 0, 0, 0, 0, 0, 0, 0, 0, 0, 0, 0, 0, 0, 0, 0, 0, 0, 0, 0, 0, 0, 0, 0, 0, 0, 0, 0, 0, 0, 0, 0, 0, 0, 0, 0, 0, 0, 0, 0, 0, 0, 0, 0, 0, 0, 0, 0, 0, 0, 0, 0, 0, 0, 0, 0, 0, 0, 0, 0, 0, 0, 0, 0, 0, 0, 0, 0, 0, 0, 0, 0, 0, 0, 0, 0, 0, 0, 0, 0, 0, 0, 0, 0, 0, 0, 0, 0, 0, 0, 0, 0, 0, 0, 0, 0, 0, 0, 0, 0, 0, 0, 0, 0, 0, 0, 0, 0, 0, 0, 0, 0, 0, 0, 0, 0, 0, 0, 0, 0, 0, 0, 0, 0, 0, 0, 0, 0, 0, 0, 0, 0, 0, 0, 0, 0, 0, 0, 0, 0, 0, 0, 0, 0, 0, 0, 0, 0, 0, 0, 0, 0, 0, 0, 0, 0, 0, 0, 0, 0, 0, 0, 0, 0, 0, 0, 0, 0, 0, 0, 0, 0, 0, 0, 0, 0, 0, 0, 0, 0, 0, 0, 0, 0, 0, 0, 0, 0, 0, 0, 0, 0, 0, 0, 0, 0, 0, 0, 0, 0, 0, 0, 0, 0, 0, 0, 0, 0, 0, 0, 0, 0, 1, 0, 0, 0, 0, 0, 0, 0, 0, 0, 0, 0, 0, 0, 0, 0, 0, 0, 0, 0, 0, 0, 0, 0, 0, 0, 0, 0, 0, 0, 0, 0, 0, 0, 0, 0, 0, 0, 0, 0, 0, 0, 0, 0, 0, 0, 0, 0, 0, 0, 0, 0, 0, 0, 0, 0, 0, 0, 0, 0, 0, 0, 0, 0, 0, 0, 0, 0, 0, 0, 0, 0, 0, 0, 0, 0, 0, 0, 0, 0, 0, 0, 0, 0, 0, 0, 0, 0, 0, 0, 0, 0, 0, 0, 0, 0, 0, 0, 0, 0, 0, 0, 0, 0, 0, 0, 0, 0, 0, 0, 0, 0, 0, 0, 0, 0, 0, 0, 0, 0, 0, 0, 0, 0, 0, 0, 0, 0, 0, 0, 0, 0, 0, 0, 0, 0, 0, 0, 0, 0, 0, 0, 0, 0, 0, 0, 0, 0, 0, 0, 0, 0, 0, 0, 0]\n",
            "Total number of test ham emails: 824\n",
            "Number of ham emails that are correctly classfied: 821\n",
            "Number of ham emails that are incorrectly classfied: 3\n",
            "Accuracy for test ham emails: 1.00\n"
          ]
        }
      ]
    },
    {
      "cell_type": "markdown",
      "source": [
        "### We will use the supplement dataset to test the classifier on new test emails"
      ],
      "metadata": {
        "id": "yl9EHuGUHHST"
      }
    },
    {
      "cell_type": "markdown",
      "source": [
        "Prediction for spam emails of supplement dataset"
      ],
      "metadata": {
        "id": "DqNaR1-lEwn2"
      }
    },
    {
      "cell_type": "code",
      "source": [
        "spam_pred_sup = nb_classifier.classify_emails('supplement/spam')\n",
        "print(spam_pred_sup)\n",
        "spam_labels_sup = [1] * len(spam_pred_sup)\n",
        "print(f'Total number of spam emails of supplement dataset: {len(spam_pred_sup)}')\n",
        "print(f'Number of spam emails that are correctly classfied: {sum(spam_pred_sup)}')\n",
        "print(f'Number of spam emails that are incorrectly classfied: {len(spam_pred_sup) - sum(spam_pred_sup)}')\n",
        "spam_accuracy_sup = nb_classifier.accuracy(spam_labels_sup, spam_pred_sup)\n",
        "print(f\"Accuracy for the spam emails of supplement dataset: {spam_accuracy_sup:.2f}\")"
      ],
      "metadata": {
        "colab": {
          "base_uri": "https://localhost:8080/"
        },
        "id": "oIMaoUw_GNrX",
        "outputId": "52096760-cf50-4e38-9766-692d6ea5c9c7"
      },
      "execution_count": 62,
      "outputs": [
        {
          "output_type": "stream",
          "name": "stdout",
          "text": [
            "[1, 1, 1, 1, 1, 1, 1, 1, 1, 1, 1, 0, 0, 0, 1, 1, 1, 1, 0, 0, 1, 1, 1, 1, 1, 1, 1, 1, 1, 1, 1, 1, 1, 1, 1, 0, 0, 1, 1, 1, 1, 1, 1, 1, 1, 1, 0, 1, 1, 1, 1, 1, 1, 1, 1, 1, 0, 1, 1, 1, 1, 1, 1, 1, 1, 0, 1, 0, 0, 1, 0, 1, 1, 1, 0, 1, 1, 0, 1, 1, 1, 1, 1, 1, 1, 1, 1, 0, 0, 1, 0, 1, 1, 1, 1, 0, 1, 1, 1, 1, 1, 1, 1, 0, 1, 1, 0, 0, 1, 1, 1, 1, 1, 1, 1, 1, 1, 0, 1, 1, 1, 0, 0, 1, 0, 0, 1, 0, 1, 1, 1, 1, 1, 1, 1, 0, 1, 1, 1, 0, 1, 1, 0, 1, 1, 1, 1, 0, 0, 1, 0, 0, 0, 1, 1, 1, 1, 1, 1, 1, 1, 1, 1, 1, 0, 1, 0, 1, 1, 1, 0, 1, 1, 0, 1, 1, 1, 0, 0, 1, 0, 0, 1, 1, 0, 1, 1, 1, 1, 1, 1, 0, 0, 1, 1, 1, 1, 0, 1, 1, 1, 1, 1, 1, 0, 1, 1, 1, 1, 1, 0, 1, 1, 0, 0, 1, 1, 1, 1, 0, 1, 0, 1, 1, 1, 1, 1, 0, 1, 1, 1, 1, 1, 1, 1, 1, 1, 1, 1, 1, 0, 0, 1, 0, 1, 1, 0, 1, 0, 1, 1, 1, 1, 1, 0, 1, 1, 0, 1, 1, 1, 0, 1, 1, 0, 1, 1, 0, 0, 0, 1, 1, 1, 1, 1, 0, 1, 1, 0, 0, 1, 1, 1, 1, 1, 1, 1, 0, 0, 0, 1, 0, 0, 1, 1, 1, 1, 1, 1, 1, 1, 1, 1, 0, 0, 1, 1, 1, 1, 1, 1, 1, 1, 0, 0, 0, 1, 0, 1, 0, 1, 1, 1, 1, 1, 1, 1, 1, 1, 1, 1, 1, 1, 1, 1, 1, 1, 1, 0, 1, 1, 1, 1, 1, 1, 1, 0, 1, 1, 1, 1, 1, 1, 1, 1, 1, 1, 1, 0, 1, 1, 0, 0, 1, 1, 1, 1, 1, 1, 1, 1, 0, 1, 1, 1, 1, 1, 0, 1, 1, 1, 0, 1, 1, 1, 0, 1, 1, 1, 1, 1, 1, 0, 0, 0, 1, 1, 1, 1, 1, 1, 0, 1, 1, 1, 1, 0, 1, 1, 1, 1, 1, 1, 1, 0, 1, 0, 1, 1, 0, 0, 1, 1, 0, 1, 1, 1, 0, 1, 0, 0, 0, 1, 1, 1, 1, 0, 1, 1, 1, 1, 1, 0, 1, 1, 1, 1, 1, 1, 1, 1, 1, 1, 1, 0, 0, 1, 1, 0, 1, 0, 1, 1, 0, 1, 1, 1, 0, 0, 1, 1, 1, 1, 1, 1, 1, 1, 1, 1, 1, 0, 0, 1, 1, 1, 1, 0, 0, 1, 1, 1, 1, 1, 0, 1, 1, 0, 1, 1, 1, 1, 0, 1, 1, 1, 1, 1, 1, 1, 1, 0, 0, 1, 1, 1, 1, 0, 1, 1, 1, 1, 1, 1, 1, 1, 1, 1, 1, 1, 1, 1, 1, 1, 1, 1, 1, 1, 1, 1, 0, 1, 1, 0, 0, 1, 0, 1, 1, 1, 1, 0, 1, 1, 1, 0, 1, 1, 0, 1, 0, 0, 1, 1, 1, 1, 1, 1, 1, 1, 1, 1, 1, 1, 1, 1, 1, 1, 1, 0, 1, 1, 1, 1, 1, 1, 1, 1, 1, 1, 1, 1, 1, 1, 1, 1, 1, 1, 1, 1, 0, 0, 1, 1, 1, 0, 1, 1, 1, 1, 1, 0, 1, 0, 0, 0, 1, 1, 1, 1, 1, 1, 0, 1, 1, 0, 0, 1, 1, 0, 0, 1, 1, 1, 1, 1, 1, 1, 1, 0, 1, 1, 1, 1, 0, 1, 0, 1, 1, 0, 1, 1, 1, 1, 0, 0, 1, 1, 1, 1, 1, 1, 0, 1, 1, 1, 1, 1, 0, 1, 1, 1, 0, 0, 1, 1, 1, 0, 1, 0, 1, 0, 0, 1, 0, 1, 1, 0, 1, 1, 1, 1, 0, 1, 1, 1, 1, 1, 1, 1, 1, 1, 1, 1, 1, 0, 0, 1, 0, 1, 1, 1, 1, 1, 1, 1, 1, 0, 1, 0, 1, 0, 1, 0, 1, 1, 0, 0, 1, 0, 1, 1, 1, 1, 1, 1, 1, 1, 1, 1, 1, 0, 1, 1, 1, 1, 1, 1, 1, 1, 1, 0, 0, 1, 1, 1, 1, 1, 1, 1, 1, 1, 1, 1, 1, 1, 1, 1, 1, 1, 1, 0, 1, 1, 1, 0, 1, 1, 1, 1, 1, 1, 1, 0, 1, 1, 1, 1, 1, 0, 1, 1, 1, 0, 1, 0, 1, 0, 1, 1, 1]\n",
            "Total number of spam emails of supplement dataset: 800\n",
            "Number of spam emails that are correctly classfied: 617\n",
            "Number of spam emails that are incorrectly classfied: 183\n",
            "Accuracy for the spam emails of supplement dataset: 0.77\n"
          ]
        }
      ]
    },
    {
      "cell_type": "markdown",
      "source": [
        "Prediction for ham emails of supplement dataset"
      ],
      "metadata": {
        "id": "BYiWNV_EB6h6"
      }
    },
    {
      "cell_type": "code",
      "source": [
        "ham_pred_sup = nb_classifier.classify_emails('supplement/ham')\n",
        "print(ham_pred_sup)\n",
        "ham_labels_sup = [0] * len(ham_pred_sup)\n",
        "print(f'Total number of ham emails of supplement dataset: {len(ham_pred_sup)}')\n",
        "print(f'Number of ham emails that are correctly classfied: {len(ham_pred_sup) - sum(ham_pred_sup)}')\n",
        "print(f'Number of ham emails that are incorrectly classfied: {sum(ham_pred_sup)}')\n",
        "ham_accuracy_sup = nb_classifier.accuracy(ham_labels_sup, ham_pred_sup)\n",
        "print(f\"Accuracy for the ham emails of supplement dataset: {ham_accuracy_sup:.2f}\")"
      ],
      "metadata": {
        "colab": {
          "base_uri": "https://localhost:8080/"
        },
        "id": "4Z04bdWhB5zA",
        "outputId": "2f167b77-8484-40d9-e1e0-9e88e43173e9"
      },
      "execution_count": 60,
      "outputs": [
        {
          "output_type": "stream",
          "name": "stdout",
          "text": [
            "[0, 0, 0, 0, 0, 0, 0, 0, 0, 0, 0, 0, 0, 0, 0, 0, 0, 0, 0, 0, 0, 0, 0, 0, 0, 0, 0, 0, 0, 0, 0, 0, 0, 0, 0, 0, 0, 0, 0, 0, 0, 0, 0, 0, 0, 0, 0, 0, 0, 0, 0, 0, 0, 0, 1, 0, 0, 0, 0, 0, 0, 0, 0, 0, 0, 0, 0, 0, 0, 0, 0, 0, 0, 0, 0, 0, 0, 0, 0, 0, 0, 0, 0, 0, 0, 0, 0, 0, 0, 0, 0, 0, 0, 0, 0, 0, 0, 0, 0, 0, 0, 0, 0, 0, 0, 0, 0, 0, 0, 0, 0, 0, 0, 0, 0, 0, 0, 0, 0, 0, 0, 0, 0, 0, 0, 0, 0, 0, 0, 0, 0, 0, 0, 0, 0, 0, 0, 0, 0, 0, 0, 0, 0, 0, 0, 0, 0, 0, 0, 0, 0, 0, 0, 0, 0, 0, 0, 0, 0, 0, 0, 0, 0, 0, 0, 0, 0, 0, 0, 0, 0, 0, 1, 0, 0, 0, 0, 0, 0, 0, 0, 0, 0, 0, 0, 0, 0, 0, 0, 0, 0, 0, 0, 0, 0, 0, 0, 0, 0, 0, 0, 0, 0, 0, 0, 0, 0, 0, 0, 0, 0, 0, 0, 0, 0, 0, 0, 0, 0, 0, 0, 0, 0, 0, 0, 0, 0, 1, 0, 0, 0, 0, 0, 0, 0, 0, 0, 0, 0, 0, 0, 0, 0, 0, 0, 0, 0, 0, 0, 0, 0, 0, 0, 0, 0, 0, 0, 0, 0, 0, 0, 0, 0, 0, 0, 0, 0, 0, 0, 0, 0, 0, 0, 0, 0, 0, 0, 0, 0, 0, 0, 0, 0, 0, 0, 0, 0, 0, 0, 0, 0, 0, 0, 0, 0, 1, 0, 0, 0, 0, 0, 0, 0, 0, 0, 0, 0, 0, 0, 0, 0, 0, 0, 0, 0, 0, 0, 0, 0, 0, 0, 0, 0, 0, 0, 0, 0, 0, 0, 0, 0, 0, 0, 0, 0, 0, 0, 0, 0, 0, 0, 0, 0, 0, 0, 0, 0, 0, 0, 0, 0, 0, 0, 0, 0, 0, 0, 0, 0, 0, 0, 0, 0, 0, 0, 0, 0, 0, 0, 0, 0, 0, 0, 0, 0, 0, 0, 0, 0, 0, 0, 0, 0, 0, 0, 0, 0, 0, 0, 0, 0, 0, 0, 0, 0, 0, 0, 0, 0, 0, 0, 0, 0, 0, 0, 0, 0, 0, 0, 0, 0, 0, 0, 0, 0, 0, 0, 0, 0, 0, 0, 0, 0, 0, 0, 0, 0, 0, 0, 0, 0, 0, 0, 0, 0, 0, 0, 0, 0, 0, 0, 0, 0, 0, 0, 0, 0, 0, 0, 0, 0, 0, 0, 0, 0, 0, 0, 0, 0, 0, 0, 0, 0, 0, 0, 0, 0, 0, 0, 0, 0, 0, 0, 0, 0, 0, 0, 0, 0, 0, 0, 0, 0, 0, 0, 0, 0, 0, 0, 0, 0, 0, 0, 0, 0, 0, 0, 0, 0, 0, 0, 0, 0, 0, 0, 0, 0, 0, 0, 0, 0, 0, 0, 0, 0, 0, 0, 0, 0, 0, 0, 0, 0, 0, 0, 0, 0, 0, 0, 0, 0, 0, 0, 0, 0, 0, 0, 0, 0, 0, 0, 0, 0, 0, 0, 0, 0, 0, 0, 0, 0, 0, 0, 0, 0, 0, 0, 0, 0, 0, 0, 0, 0, 0, 0, 0, 0, 0, 0, 0, 0, 0, 0, 0, 0, 0, 0, 0, 0, 0, 0, 0, 0, 0, 0, 0, 0, 0, 0, 0, 0, 0, 0, 0, 0, 0, 0, 0, 0, 0, 0, 0, 0, 0, 0, 0, 0, 0, 0, 0, 0, 0, 0, 0, 0, 0, 0, 0, 0, 0, 0, 0, 0, 0, 0, 0, 0, 0, 0, 0, 0, 0, 0, 0, 0, 0, 0, 0, 0, 0, 0, 0, 0, 0, 0, 0, 0, 0, 0, 0, 0, 0, 0, 0, 0, 0, 0, 0, 0, 0, 0, 0, 0, 0, 0, 0, 0, 0, 0, 0, 0, 0, 0, 0, 0, 0, 0, 0, 0, 0, 0, 0, 0, 0, 0, 0, 0, 0, 0, 0, 0, 0, 0, 0, 0, 0, 0, 0, 0, 0, 0, 0, 0, 0, 0, 0, 0, 0, 0, 0, 0, 0, 0, 0, 0, 0, 0, 0, 0, 0, 0, 0, 0, 0, 0, 0, 0, 0, 0, 0, 0, 0, 0, 0, 0, 0, 0, 0, 0, 0, 0, 0, 0, 0, 0, 0, 0, 0, 0, 0, 0, 0, 0, 0, 0, 0, 0, 0, 0, 0, 0, 0, 0, 0, 0, 0, 0, 0, 0, 0, 0, 0, 0, 0, 0, 0, 0, 0, 0, 0, 0, 0, 0, 0, 0, 0, 0, 0, 0, 0, 0, 0, 0, 0, 0, 0, 0, 0, 0, 0]\n",
            "Total number of ham emails of supplement dataset: 800\n",
            "Number of ham emails that are correctly classfied: 796\n",
            "Number of ham emails that are incorrectly classfied: 4\n",
            "Accuracy for the ham emails of supplement dataset: 0.99\n"
          ]
        }
      ]
    }
  ]
}