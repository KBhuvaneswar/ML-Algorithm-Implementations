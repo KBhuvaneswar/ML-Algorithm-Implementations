{
  "nbformat": 4,
  "nbformat_minor": 0,
  "metadata": {
    "colab": {
      "provenance": []
    },
    "kernelspec": {
      "name": "python3",
      "display_name": "Python 3"
    },
    "language_info": {
      "name": "python"
    }
  },
  "cells": [
    {
      "cell_type": "code",
      "source": [
        "import pandas as pd\n",
        "import numpy as np\n",
        "import matplotlib.pyplot as plt"
      ],
      "metadata": {
        "id": "2O6sxXKGXVjz"
      },
      "execution_count": null,
      "outputs": []
    },
    {
      "cell_type": "code",
      "source": [
        "# Load the train dataset\n",
        "train_data = pd.read_csv(\"FMLA1Q1Data_train.csv\", header=None)"
      ],
      "metadata": {
        "id": "Urt4AEGRXusP"
      },
      "execution_count": null,
      "outputs": []
    },
    {
      "cell_type": "code",
      "source": [
        "# Name the columns\n",
        "train_data.columns = [\"x1\", \"x2\", \"y\"]"
      ],
      "metadata": {
        "id": "EsBWQl4taT2h"
      },
      "execution_count": null,
      "outputs": []
    },
    {
      "cell_type": "code",
      "source": [
        "train_data.head()"
      ],
      "metadata": {
        "colab": {
          "base_uri": "https://localhost:8080/",
          "height": 206
        },
        "id": "UXjUwoLtX5gJ",
        "outputId": "b4130383-20c0-4140-810d-d727e0bf79f8"
      },
      "execution_count": null,
      "outputs": [
        {
          "output_type": "execute_result",
          "data": {
            "text/plain": [
              "        x1       x2        y\n",
              "0  0.53767  0.67370   9.7251\n",
              "1  1.83390 -0.66911  11.1090\n",
              "2 -2.25880 -0.40032  22.0270\n",
              "3  0.86217 -0.67180   2.4278\n",
              "4  0.31877  0.57563   6.5156"
            ],
            "text/html": [
              "\n",
              "  <div id=\"df-50e081ed-63b3-46b4-995e-54465719619d\" class=\"colab-df-container\">\n",
              "    <div>\n",
              "<style scoped>\n",
              "    .dataframe tbody tr th:only-of-type {\n",
              "        vertical-align: middle;\n",
              "    }\n",
              "\n",
              "    .dataframe tbody tr th {\n",
              "        vertical-align: top;\n",
              "    }\n",
              "\n",
              "    .dataframe thead th {\n",
              "        text-align: right;\n",
              "    }\n",
              "</style>\n",
              "<table border=\"1\" class=\"dataframe\">\n",
              "  <thead>\n",
              "    <tr style=\"text-align: right;\">\n",
              "      <th></th>\n",
              "      <th>x1</th>\n",
              "      <th>x2</th>\n",
              "      <th>y</th>\n",
              "    </tr>\n",
              "  </thead>\n",
              "  <tbody>\n",
              "    <tr>\n",
              "      <th>0</th>\n",
              "      <td>0.53767</td>\n",
              "      <td>0.67370</td>\n",
              "      <td>9.7251</td>\n",
              "    </tr>\n",
              "    <tr>\n",
              "      <th>1</th>\n",
              "      <td>1.83390</td>\n",
              "      <td>-0.66911</td>\n",
              "      <td>11.1090</td>\n",
              "    </tr>\n",
              "    <tr>\n",
              "      <th>2</th>\n",
              "      <td>-2.25880</td>\n",
              "      <td>-0.40032</td>\n",
              "      <td>22.0270</td>\n",
              "    </tr>\n",
              "    <tr>\n",
              "      <th>3</th>\n",
              "      <td>0.86217</td>\n",
              "      <td>-0.67180</td>\n",
              "      <td>2.4278</td>\n",
              "    </tr>\n",
              "    <tr>\n",
              "      <th>4</th>\n",
              "      <td>0.31877</td>\n",
              "      <td>0.57563</td>\n",
              "      <td>6.5156</td>\n",
              "    </tr>\n",
              "  </tbody>\n",
              "</table>\n",
              "</div>\n",
              "    <div class=\"colab-df-buttons\">\n",
              "\n",
              "  <div class=\"colab-df-container\">\n",
              "    <button class=\"colab-df-convert\" onclick=\"convertToInteractive('df-50e081ed-63b3-46b4-995e-54465719619d')\"\n",
              "            title=\"Convert this dataframe to an interactive table.\"\n",
              "            style=\"display:none;\">\n",
              "\n",
              "  <svg xmlns=\"http://www.w3.org/2000/svg\" height=\"24px\" viewBox=\"0 -960 960 960\">\n",
              "    <path d=\"M120-120v-720h720v720H120Zm60-500h600v-160H180v160Zm220 220h160v-160H400v160Zm0 220h160v-160H400v160ZM180-400h160v-160H180v160Zm440 0h160v-160H620v160ZM180-180h160v-160H180v160Zm440 0h160v-160H620v160Z\"/>\n",
              "  </svg>\n",
              "    </button>\n",
              "\n",
              "  <style>\n",
              "    .colab-df-container {\n",
              "      display:flex;\n",
              "      gap: 12px;\n",
              "    }\n",
              "\n",
              "    .colab-df-convert {\n",
              "      background-color: #E8F0FE;\n",
              "      border: none;\n",
              "      border-radius: 50%;\n",
              "      cursor: pointer;\n",
              "      display: none;\n",
              "      fill: #1967D2;\n",
              "      height: 32px;\n",
              "      padding: 0 0 0 0;\n",
              "      width: 32px;\n",
              "    }\n",
              "\n",
              "    .colab-df-convert:hover {\n",
              "      background-color: #E2EBFA;\n",
              "      box-shadow: 0px 1px 2px rgba(60, 64, 67, 0.3), 0px 1px 3px 1px rgba(60, 64, 67, 0.15);\n",
              "      fill: #174EA6;\n",
              "    }\n",
              "\n",
              "    .colab-df-buttons div {\n",
              "      margin-bottom: 4px;\n",
              "    }\n",
              "\n",
              "    [theme=dark] .colab-df-convert {\n",
              "      background-color: #3B4455;\n",
              "      fill: #D2E3FC;\n",
              "    }\n",
              "\n",
              "    [theme=dark] .colab-df-convert:hover {\n",
              "      background-color: #434B5C;\n",
              "      box-shadow: 0px 1px 3px 1px rgba(0, 0, 0, 0.15);\n",
              "      filter: drop-shadow(0px 1px 2px rgba(0, 0, 0, 0.3));\n",
              "      fill: #FFFFFF;\n",
              "    }\n",
              "  </style>\n",
              "\n",
              "    <script>\n",
              "      const buttonEl =\n",
              "        document.querySelector('#df-50e081ed-63b3-46b4-995e-54465719619d button.colab-df-convert');\n",
              "      buttonEl.style.display =\n",
              "        google.colab.kernel.accessAllowed ? 'block' : 'none';\n",
              "\n",
              "      async function convertToInteractive(key) {\n",
              "        const element = document.querySelector('#df-50e081ed-63b3-46b4-995e-54465719619d');\n",
              "        const dataTable =\n",
              "          await google.colab.kernel.invokeFunction('convertToInteractive',\n",
              "                                                    [key], {});\n",
              "        if (!dataTable) return;\n",
              "\n",
              "        const docLinkHtml = 'Like what you see? Visit the ' +\n",
              "          '<a target=\"_blank\" href=https://colab.research.google.com/notebooks/data_table.ipynb>data table notebook</a>'\n",
              "          + ' to learn more about interactive tables.';\n",
              "        element.innerHTML = '';\n",
              "        dataTable['output_type'] = 'display_data';\n",
              "        await google.colab.output.renderOutput(dataTable, element);\n",
              "        const docLink = document.createElement('div');\n",
              "        docLink.innerHTML = docLinkHtml;\n",
              "        element.appendChild(docLink);\n",
              "      }\n",
              "    </script>\n",
              "  </div>\n",
              "\n",
              "\n",
              "<div id=\"df-7c1330b2-0309-449d-ba48-ec5894353620\">\n",
              "  <button class=\"colab-df-quickchart\" onclick=\"quickchart('df-7c1330b2-0309-449d-ba48-ec5894353620')\"\n",
              "            title=\"Suggest charts\"\n",
              "            style=\"display:none;\">\n",
              "\n",
              "<svg xmlns=\"http://www.w3.org/2000/svg\" height=\"24px\"viewBox=\"0 0 24 24\"\n",
              "     width=\"24px\">\n",
              "    <g>\n",
              "        <path d=\"M19 3H5c-1.1 0-2 .9-2 2v14c0 1.1.9 2 2 2h14c1.1 0 2-.9 2-2V5c0-1.1-.9-2-2-2zM9 17H7v-7h2v7zm4 0h-2V7h2v10zm4 0h-2v-4h2v4z\"/>\n",
              "    </g>\n",
              "</svg>\n",
              "  </button>\n",
              "\n",
              "<style>\n",
              "  .colab-df-quickchart {\n",
              "      --bg-color: #E8F0FE;\n",
              "      --fill-color: #1967D2;\n",
              "      --hover-bg-color: #E2EBFA;\n",
              "      --hover-fill-color: #174EA6;\n",
              "      --disabled-fill-color: #AAA;\n",
              "      --disabled-bg-color: #DDD;\n",
              "  }\n",
              "\n",
              "  [theme=dark] .colab-df-quickchart {\n",
              "      --bg-color: #3B4455;\n",
              "      --fill-color: #D2E3FC;\n",
              "      --hover-bg-color: #434B5C;\n",
              "      --hover-fill-color: #FFFFFF;\n",
              "      --disabled-bg-color: #3B4455;\n",
              "      --disabled-fill-color: #666;\n",
              "  }\n",
              "\n",
              "  .colab-df-quickchart {\n",
              "    background-color: var(--bg-color);\n",
              "    border: none;\n",
              "    border-radius: 50%;\n",
              "    cursor: pointer;\n",
              "    display: none;\n",
              "    fill: var(--fill-color);\n",
              "    height: 32px;\n",
              "    padding: 0;\n",
              "    width: 32px;\n",
              "  }\n",
              "\n",
              "  .colab-df-quickchart:hover {\n",
              "    background-color: var(--hover-bg-color);\n",
              "    box-shadow: 0 1px 2px rgba(60, 64, 67, 0.3), 0 1px 3px 1px rgba(60, 64, 67, 0.15);\n",
              "    fill: var(--button-hover-fill-color);\n",
              "  }\n",
              "\n",
              "  .colab-df-quickchart-complete:disabled,\n",
              "  .colab-df-quickchart-complete:disabled:hover {\n",
              "    background-color: var(--disabled-bg-color);\n",
              "    fill: var(--disabled-fill-color);\n",
              "    box-shadow: none;\n",
              "  }\n",
              "\n",
              "  .colab-df-spinner {\n",
              "    border: 2px solid var(--fill-color);\n",
              "    border-color: transparent;\n",
              "    border-bottom-color: var(--fill-color);\n",
              "    animation:\n",
              "      spin 1s steps(1) infinite;\n",
              "  }\n",
              "\n",
              "  @keyframes spin {\n",
              "    0% {\n",
              "      border-color: transparent;\n",
              "      border-bottom-color: var(--fill-color);\n",
              "      border-left-color: var(--fill-color);\n",
              "    }\n",
              "    20% {\n",
              "      border-color: transparent;\n",
              "      border-left-color: var(--fill-color);\n",
              "      border-top-color: var(--fill-color);\n",
              "    }\n",
              "    30% {\n",
              "      border-color: transparent;\n",
              "      border-left-color: var(--fill-color);\n",
              "      border-top-color: var(--fill-color);\n",
              "      border-right-color: var(--fill-color);\n",
              "    }\n",
              "    40% {\n",
              "      border-color: transparent;\n",
              "      border-right-color: var(--fill-color);\n",
              "      border-top-color: var(--fill-color);\n",
              "    }\n",
              "    60% {\n",
              "      border-color: transparent;\n",
              "      border-right-color: var(--fill-color);\n",
              "    }\n",
              "    80% {\n",
              "      border-color: transparent;\n",
              "      border-right-color: var(--fill-color);\n",
              "      border-bottom-color: var(--fill-color);\n",
              "    }\n",
              "    90% {\n",
              "      border-color: transparent;\n",
              "      border-bottom-color: var(--fill-color);\n",
              "    }\n",
              "  }\n",
              "</style>\n",
              "\n",
              "  <script>\n",
              "    async function quickchart(key) {\n",
              "      const quickchartButtonEl =\n",
              "        document.querySelector('#' + key + ' button');\n",
              "      quickchartButtonEl.disabled = true;  // To prevent multiple clicks.\n",
              "      quickchartButtonEl.classList.add('colab-df-spinner');\n",
              "      try {\n",
              "        const charts = await google.colab.kernel.invokeFunction(\n",
              "            'suggestCharts', [key], {});\n",
              "      } catch (error) {\n",
              "        console.error('Error during call to suggestCharts:', error);\n",
              "      }\n",
              "      quickchartButtonEl.classList.remove('colab-df-spinner');\n",
              "      quickchartButtonEl.classList.add('colab-df-quickchart-complete');\n",
              "    }\n",
              "    (() => {\n",
              "      let quickchartButtonEl =\n",
              "        document.querySelector('#df-7c1330b2-0309-449d-ba48-ec5894353620 button');\n",
              "      quickchartButtonEl.style.display =\n",
              "        google.colab.kernel.accessAllowed ? 'block' : 'none';\n",
              "    })();\n",
              "  </script>\n",
              "</div>\n",
              "\n",
              "    </div>\n",
              "  </div>\n"
            ],
            "application/vnd.google.colaboratory.intrinsic+json": {
              "type": "dataframe",
              "variable_name": "train_data",
              "summary": "{\n  \"name\": \"train_data\",\n  \"rows\": 1000,\n  \"fields\": [\n    {\n      \"column\": \"x1\",\n      \"properties\": {\n        \"dtype\": \"number\",\n        \"std\": 0.9989665777988007,\n        \"min\": -3.232,\n        \"max\": 3.5784,\n        \"num_unique_values\": 1000,\n        \"samples\": [\n          -2.329,\n          -0.21327,\n          -0.57177\n        ],\n        \"semantic_type\": \"\",\n        \"description\": \"\"\n      }\n    },\n    {\n      \"column\": \"x2\",\n      \"properties\": {\n        \"dtype\": \"number\",\n        \"std\": 0.9985943389690807,\n        \"min\": -3.0722,\n        \"max\": 3.5699,\n        \"num_unique_values\": 999,\n        \"samples\": [\n          1.8851,\n          -0.16388,\n          0.2874\n        ],\n        \"semantic_type\": \"\",\n        \"description\": \"\"\n      }\n    },\n    {\n      \"column\": \"y\",\n      \"properties\": {\n        \"dtype\": \"number\",\n        \"std\": 11.783516045626191,\n        \"min\": 0.40942,\n        \"max\": 106.26,\n        \"num_unique_values\": 992,\n        \"samples\": [\n          17.538,\n          7.1096,\n          2.3793\n        ],\n        \"semantic_type\": \"\",\n        \"description\": \"\"\n      }\n    }\n  ]\n}"
            }
          },
          "metadata": {},
          "execution_count": 6
        }
      ]
    },
    {
      "cell_type": "code",
      "source": [
        "train_data.describe()"
      ],
      "metadata": {
        "colab": {
          "base_uri": "https://localhost:8080/",
          "height": 300
        },
        "id": "2JG-_dUOYtd7",
        "outputId": "04e12f1a-53a4-4b81-f04a-3b008e97235b"
      },
      "execution_count": null,
      "outputs": [
        {
          "output_type": "execute_result",
          "data": {
            "text/plain": [
              "                x1           x2            y\n",
              "count  1000.000000  1000.000000  1000.000000\n",
              "mean     -0.032632     0.036899     9.966333\n",
              "std       0.998967     0.998594    11.783516\n",
              "min      -3.232000    -3.072200     0.409420\n",
              "25%      -0.712633    -0.620370     2.521725\n",
              "50%      -0.030433     0.049701     5.644650\n",
              "75%       0.610568     0.673875    12.937000\n",
              "max       3.578400     3.569900   106.260000"
            ],
            "text/html": [
              "\n",
              "  <div id=\"df-2c0c3b57-02ab-4b82-b607-ef74d1f90339\" class=\"colab-df-container\">\n",
              "    <div>\n",
              "<style scoped>\n",
              "    .dataframe tbody tr th:only-of-type {\n",
              "        vertical-align: middle;\n",
              "    }\n",
              "\n",
              "    .dataframe tbody tr th {\n",
              "        vertical-align: top;\n",
              "    }\n",
              "\n",
              "    .dataframe thead th {\n",
              "        text-align: right;\n",
              "    }\n",
              "</style>\n",
              "<table border=\"1\" class=\"dataframe\">\n",
              "  <thead>\n",
              "    <tr style=\"text-align: right;\">\n",
              "      <th></th>\n",
              "      <th>x1</th>\n",
              "      <th>x2</th>\n",
              "      <th>y</th>\n",
              "    </tr>\n",
              "  </thead>\n",
              "  <tbody>\n",
              "    <tr>\n",
              "      <th>count</th>\n",
              "      <td>1000.000000</td>\n",
              "      <td>1000.000000</td>\n",
              "      <td>1000.000000</td>\n",
              "    </tr>\n",
              "    <tr>\n",
              "      <th>mean</th>\n",
              "      <td>-0.032632</td>\n",
              "      <td>0.036899</td>\n",
              "      <td>9.966333</td>\n",
              "    </tr>\n",
              "    <tr>\n",
              "      <th>std</th>\n",
              "      <td>0.998967</td>\n",
              "      <td>0.998594</td>\n",
              "      <td>11.783516</td>\n",
              "    </tr>\n",
              "    <tr>\n",
              "      <th>min</th>\n",
              "      <td>-3.232000</td>\n",
              "      <td>-3.072200</td>\n",
              "      <td>0.409420</td>\n",
              "    </tr>\n",
              "    <tr>\n",
              "      <th>25%</th>\n",
              "      <td>-0.712633</td>\n",
              "      <td>-0.620370</td>\n",
              "      <td>2.521725</td>\n",
              "    </tr>\n",
              "    <tr>\n",
              "      <th>50%</th>\n",
              "      <td>-0.030433</td>\n",
              "      <td>0.049701</td>\n",
              "      <td>5.644650</td>\n",
              "    </tr>\n",
              "    <tr>\n",
              "      <th>75%</th>\n",
              "      <td>0.610568</td>\n",
              "      <td>0.673875</td>\n",
              "      <td>12.937000</td>\n",
              "    </tr>\n",
              "    <tr>\n",
              "      <th>max</th>\n",
              "      <td>3.578400</td>\n",
              "      <td>3.569900</td>\n",
              "      <td>106.260000</td>\n",
              "    </tr>\n",
              "  </tbody>\n",
              "</table>\n",
              "</div>\n",
              "    <div class=\"colab-df-buttons\">\n",
              "\n",
              "  <div class=\"colab-df-container\">\n",
              "    <button class=\"colab-df-convert\" onclick=\"convertToInteractive('df-2c0c3b57-02ab-4b82-b607-ef74d1f90339')\"\n",
              "            title=\"Convert this dataframe to an interactive table.\"\n",
              "            style=\"display:none;\">\n",
              "\n",
              "  <svg xmlns=\"http://www.w3.org/2000/svg\" height=\"24px\" viewBox=\"0 -960 960 960\">\n",
              "    <path d=\"M120-120v-720h720v720H120Zm60-500h600v-160H180v160Zm220 220h160v-160H400v160Zm0 220h160v-160H400v160ZM180-400h160v-160H180v160Zm440 0h160v-160H620v160ZM180-180h160v-160H180v160Zm440 0h160v-160H620v160Z\"/>\n",
              "  </svg>\n",
              "    </button>\n",
              "\n",
              "  <style>\n",
              "    .colab-df-container {\n",
              "      display:flex;\n",
              "      gap: 12px;\n",
              "    }\n",
              "\n",
              "    .colab-df-convert {\n",
              "      background-color: #E8F0FE;\n",
              "      border: none;\n",
              "      border-radius: 50%;\n",
              "      cursor: pointer;\n",
              "      display: none;\n",
              "      fill: #1967D2;\n",
              "      height: 32px;\n",
              "      padding: 0 0 0 0;\n",
              "      width: 32px;\n",
              "    }\n",
              "\n",
              "    .colab-df-convert:hover {\n",
              "      background-color: #E2EBFA;\n",
              "      box-shadow: 0px 1px 2px rgba(60, 64, 67, 0.3), 0px 1px 3px 1px rgba(60, 64, 67, 0.15);\n",
              "      fill: #174EA6;\n",
              "    }\n",
              "\n",
              "    .colab-df-buttons div {\n",
              "      margin-bottom: 4px;\n",
              "    }\n",
              "\n",
              "    [theme=dark] .colab-df-convert {\n",
              "      background-color: #3B4455;\n",
              "      fill: #D2E3FC;\n",
              "    }\n",
              "\n",
              "    [theme=dark] .colab-df-convert:hover {\n",
              "      background-color: #434B5C;\n",
              "      box-shadow: 0px 1px 3px 1px rgba(0, 0, 0, 0.15);\n",
              "      filter: drop-shadow(0px 1px 2px rgba(0, 0, 0, 0.3));\n",
              "      fill: #FFFFFF;\n",
              "    }\n",
              "  </style>\n",
              "\n",
              "    <script>\n",
              "      const buttonEl =\n",
              "        document.querySelector('#df-2c0c3b57-02ab-4b82-b607-ef74d1f90339 button.colab-df-convert');\n",
              "      buttonEl.style.display =\n",
              "        google.colab.kernel.accessAllowed ? 'block' : 'none';\n",
              "\n",
              "      async function convertToInteractive(key) {\n",
              "        const element = document.querySelector('#df-2c0c3b57-02ab-4b82-b607-ef74d1f90339');\n",
              "        const dataTable =\n",
              "          await google.colab.kernel.invokeFunction('convertToInteractive',\n",
              "                                                    [key], {});\n",
              "        if (!dataTable) return;\n",
              "\n",
              "        const docLinkHtml = 'Like what you see? Visit the ' +\n",
              "          '<a target=\"_blank\" href=https://colab.research.google.com/notebooks/data_table.ipynb>data table notebook</a>'\n",
              "          + ' to learn more about interactive tables.';\n",
              "        element.innerHTML = '';\n",
              "        dataTable['output_type'] = 'display_data';\n",
              "        await google.colab.output.renderOutput(dataTable, element);\n",
              "        const docLink = document.createElement('div');\n",
              "        docLink.innerHTML = docLinkHtml;\n",
              "        element.appendChild(docLink);\n",
              "      }\n",
              "    </script>\n",
              "  </div>\n",
              "\n",
              "\n",
              "<div id=\"df-0619d816-03fe-4669-9e4a-049fe4ded7de\">\n",
              "  <button class=\"colab-df-quickchart\" onclick=\"quickchart('df-0619d816-03fe-4669-9e4a-049fe4ded7de')\"\n",
              "            title=\"Suggest charts\"\n",
              "            style=\"display:none;\">\n",
              "\n",
              "<svg xmlns=\"http://www.w3.org/2000/svg\" height=\"24px\"viewBox=\"0 0 24 24\"\n",
              "     width=\"24px\">\n",
              "    <g>\n",
              "        <path d=\"M19 3H5c-1.1 0-2 .9-2 2v14c0 1.1.9 2 2 2h14c1.1 0 2-.9 2-2V5c0-1.1-.9-2-2-2zM9 17H7v-7h2v7zm4 0h-2V7h2v10zm4 0h-2v-4h2v4z\"/>\n",
              "    </g>\n",
              "</svg>\n",
              "  </button>\n",
              "\n",
              "<style>\n",
              "  .colab-df-quickchart {\n",
              "      --bg-color: #E8F0FE;\n",
              "      --fill-color: #1967D2;\n",
              "      --hover-bg-color: #E2EBFA;\n",
              "      --hover-fill-color: #174EA6;\n",
              "      --disabled-fill-color: #AAA;\n",
              "      --disabled-bg-color: #DDD;\n",
              "  }\n",
              "\n",
              "  [theme=dark] .colab-df-quickchart {\n",
              "      --bg-color: #3B4455;\n",
              "      --fill-color: #D2E3FC;\n",
              "      --hover-bg-color: #434B5C;\n",
              "      --hover-fill-color: #FFFFFF;\n",
              "      --disabled-bg-color: #3B4455;\n",
              "      --disabled-fill-color: #666;\n",
              "  }\n",
              "\n",
              "  .colab-df-quickchart {\n",
              "    background-color: var(--bg-color);\n",
              "    border: none;\n",
              "    border-radius: 50%;\n",
              "    cursor: pointer;\n",
              "    display: none;\n",
              "    fill: var(--fill-color);\n",
              "    height: 32px;\n",
              "    padding: 0;\n",
              "    width: 32px;\n",
              "  }\n",
              "\n",
              "  .colab-df-quickchart:hover {\n",
              "    background-color: var(--hover-bg-color);\n",
              "    box-shadow: 0 1px 2px rgba(60, 64, 67, 0.3), 0 1px 3px 1px rgba(60, 64, 67, 0.15);\n",
              "    fill: var(--button-hover-fill-color);\n",
              "  }\n",
              "\n",
              "  .colab-df-quickchart-complete:disabled,\n",
              "  .colab-df-quickchart-complete:disabled:hover {\n",
              "    background-color: var(--disabled-bg-color);\n",
              "    fill: var(--disabled-fill-color);\n",
              "    box-shadow: none;\n",
              "  }\n",
              "\n",
              "  .colab-df-spinner {\n",
              "    border: 2px solid var(--fill-color);\n",
              "    border-color: transparent;\n",
              "    border-bottom-color: var(--fill-color);\n",
              "    animation:\n",
              "      spin 1s steps(1) infinite;\n",
              "  }\n",
              "\n",
              "  @keyframes spin {\n",
              "    0% {\n",
              "      border-color: transparent;\n",
              "      border-bottom-color: var(--fill-color);\n",
              "      border-left-color: var(--fill-color);\n",
              "    }\n",
              "    20% {\n",
              "      border-color: transparent;\n",
              "      border-left-color: var(--fill-color);\n",
              "      border-top-color: var(--fill-color);\n",
              "    }\n",
              "    30% {\n",
              "      border-color: transparent;\n",
              "      border-left-color: var(--fill-color);\n",
              "      border-top-color: var(--fill-color);\n",
              "      border-right-color: var(--fill-color);\n",
              "    }\n",
              "    40% {\n",
              "      border-color: transparent;\n",
              "      border-right-color: var(--fill-color);\n",
              "      border-top-color: var(--fill-color);\n",
              "    }\n",
              "    60% {\n",
              "      border-color: transparent;\n",
              "      border-right-color: var(--fill-color);\n",
              "    }\n",
              "    80% {\n",
              "      border-color: transparent;\n",
              "      border-right-color: var(--fill-color);\n",
              "      border-bottom-color: var(--fill-color);\n",
              "    }\n",
              "    90% {\n",
              "      border-color: transparent;\n",
              "      border-bottom-color: var(--fill-color);\n",
              "    }\n",
              "  }\n",
              "</style>\n",
              "\n",
              "  <script>\n",
              "    async function quickchart(key) {\n",
              "      const quickchartButtonEl =\n",
              "        document.querySelector('#' + key + ' button');\n",
              "      quickchartButtonEl.disabled = true;  // To prevent multiple clicks.\n",
              "      quickchartButtonEl.classList.add('colab-df-spinner');\n",
              "      try {\n",
              "        const charts = await google.colab.kernel.invokeFunction(\n",
              "            'suggestCharts', [key], {});\n",
              "      } catch (error) {\n",
              "        console.error('Error during call to suggestCharts:', error);\n",
              "      }\n",
              "      quickchartButtonEl.classList.remove('colab-df-spinner');\n",
              "      quickchartButtonEl.classList.add('colab-df-quickchart-complete');\n",
              "    }\n",
              "    (() => {\n",
              "      let quickchartButtonEl =\n",
              "        document.querySelector('#df-0619d816-03fe-4669-9e4a-049fe4ded7de button');\n",
              "      quickchartButtonEl.style.display =\n",
              "        google.colab.kernel.accessAllowed ? 'block' : 'none';\n",
              "    })();\n",
              "  </script>\n",
              "</div>\n",
              "\n",
              "    </div>\n",
              "  </div>\n"
            ],
            "application/vnd.google.colaboratory.intrinsic+json": {
              "type": "dataframe",
              "summary": "{\n  \"name\": \"train_data\",\n  \"rows\": 8,\n  \"fields\": [\n    {\n      \"column\": \"x1\",\n      \"properties\": {\n        \"dtype\": \"number\",\n        \"std\": 353.4988175074653,\n        \"min\": -3.232,\n        \"max\": 1000.0,\n        \"num_unique_values\": 8,\n        \"samples\": [\n          -0.032631640951000004,\n          -0.0304325,\n          1000.0\n        ],\n        \"semantic_type\": \"\",\n        \"description\": \"\"\n      }\n    },\n    {\n      \"column\": \"x2\",\n      \"properties\": {\n        \"dtype\": \"number\",\n        \"std\": 353.4755170501915,\n        \"min\": -3.0722,\n        \"max\": 1000.0,\n        \"num_unique_values\": 8,\n        \"samples\": [\n          0.036898801419999995,\n          0.049701,\n          1000.0\n        ],\n        \"semantic_type\": \"\",\n        \"description\": \"\"\n      }\n    },\n    {\n      \"column\": \"y\",\n      \"properties\": {\n        \"dtype\": \"number\",\n        \"std\": 347.76014574722376,\n        \"min\": 0.40942,\n        \"max\": 1000.0,\n        \"num_unique_values\": 8,\n        \"samples\": [\n          9.966332890000002,\n          5.64465,\n          1000.0\n        ],\n        \"semantic_type\": \"\",\n        \"description\": \"\"\n      }\n    }\n  ]\n}"
            }
          },
          "metadata": {},
          "execution_count": 5
        }
      ]
    },
    {
      "cell_type": "markdown",
      "source": [
        "### Transform the train dataset into matrices"
      ],
      "metadata": {
        "id": "CTllPa_sWwsJ"
      }
    },
    {
      "cell_type": "code",
      "source": [
        "X_train = train_data[[\"x1\", \"x2\"]]\n",
        "y_train = train_data[\"y\"]\n",
        "\n",
        "X_train = np.array(X_train)\n",
        "y_train = np.array(y_train)\n",
        "\n",
        "X_train.shape, y_train.shape"
      ],
      "metadata": {
        "colab": {
          "base_uri": "https://localhost:8080/"
        },
        "id": "I6K0tfxoaoKe",
        "outputId": "c54c197b-a6ac-451b-951d-f90101110f8e"
      },
      "execution_count": null,
      "outputs": [
        {
          "output_type": "execute_result",
          "data": {
            "text/plain": [
              "((1000, 2), (1000,))"
            ]
          },
          "metadata": {},
          "execution_count": 7
        }
      ]
    },
    {
      "cell_type": "markdown",
      "source": [
        "### Transform <br/>\n",
        "### 1. $X_{train}$ into (d x n) matrix with \"d\" features and \"n\" samples\n",
        "### 2. $y_{train}$ into (n x 1) column vector"
      ],
      "metadata": {
        "id": "51fX20WrXDUs"
      }
    },
    {
      "cell_type": "code",
      "source": [
        "X_train = X_train.T\n",
        "y_train = y_train.reshape(-1, 1)\n",
        "X_train.shape, y_train.shape"
      ],
      "metadata": {
        "colab": {
          "base_uri": "https://localhost:8080/"
        },
        "id": "Etr2-9-7gxPI",
        "outputId": "d45fe6e1-5b37-4c94-d743-cbb99a1a01e4"
      },
      "execution_count": null,
      "outputs": [
        {
          "output_type": "execute_result",
          "data": {
            "text/plain": [
              "((2, 1000), (1000, 1))"
            ]
          },
          "metadata": {},
          "execution_count": 8
        }
      ]
    },
    {
      "cell_type": "markdown",
      "source": [
        "### Add bias (intercept) to $X_{train}$"
      ],
      "metadata": {
        "id": "A0d7-tbHuYaF"
      }
    },
    {
      "cell_type": "code",
      "source": [
        "X_train_bias = np.ones((1, X_train.shape[1]))\n",
        "X_train_biased = np.concatenate((X_train_bias, X_train), axis=0)\n",
        "X_train_biased.shape"
      ],
      "metadata": {
        "colab": {
          "base_uri": "https://localhost:8080/"
        },
        "id": "otaKozfMsyJp",
        "outputId": "1a9467d5-1129-4192-f07f-b03ffeac45fc"
      },
      "execution_count": null,
      "outputs": [
        {
          "output_type": "execute_result",
          "data": {
            "text/plain": [
              "(3, 1000)"
            ]
          },
          "metadata": {},
          "execution_count": 9
        }
      ]
    },
    {
      "cell_type": "markdown",
      "source": [
        "# **Least squares solution using analytical solution**"
      ],
      "metadata": {
        "id": "kErAVpYYX1lP"
      }
    },
    {
      "cell_type": "code",
      "source": [
        "def least_squares_analytical(X, y):\n",
        "  \"\"\"\n",
        "  Analytical solution algorithm for least squares.\n",
        "\n",
        "  Args:\n",
        "    X: Feature matrix (d x n) where d is the number of features and n is the number of samples.\n",
        "    y: Target vector (n x 1).\n",
        "\n",
        "  Returns:\n",
        "    w: Weight vector (d x 1).\n",
        "  \"\"\"\n",
        "  inverse_term = np.linalg.inv(X @ X.T)\n",
        "  X_y = X @ y\n",
        "  w = inverse_term @ X_y\n",
        "  return w\n",
        "\n",
        "w_ml = least_squares_analytical(X_train, y_train)\n",
        "w_ml_wb = least_squares_analytical(X_train_biased, y_train)\n",
        "print(\"Least squares solution using ANALYTICAL SOLUTION:\\n\")\n",
        "print(\"The w_ml (without bias) is:\\n\", w_ml)\n",
        "print(\"\\n\")\n",
        "print(\"The w_ml (with bias) is:\\n\", w_ml_wb)"
      ],
      "metadata": {
        "colab": {
          "base_uri": "https://localhost:8080/"
        },
        "id": "3_KvbQIuc_PE",
        "outputId": "c0b42586-b569-4572-eb45-bdfd0c98668b"
      },
      "execution_count": null,
      "outputs": [
        {
          "output_type": "stream",
          "name": "stdout",
          "text": [
            "Least squares solution using ANALYTICAL SOLUTION:\n",
            "\n",
            "The w_ml (without bias) is:\n",
            " [[1.44599914]\n",
            " [3.88421178]]\n",
            "\n",
            "\n",
            "The w_ml (with bias) is:\n",
            " [[9.89400832]\n",
            " [1.76570568]\n",
            " [3.5215898 ]]\n"
          ]
        }
      ]
    },
    {
      "cell_type": "markdown",
      "source": [
        "### The least squares solution $w_{ML}$ using analytical solution that we have computed provides an optimal estimate for the weights by minimizing the sum of squared errors between the predicted and actual values."
      ],
      "metadata": {
        "id": "cIu4dWMhZC7o"
      }
    },
    {
      "cell_type": "markdown",
      "source": [
        "### Compute the Mean Squared error"
      ],
      "metadata": {
        "id": "_k1wBg0Vv79Y"
      }
    },
    {
      "cell_type": "code",
      "source": [
        "def mse(X, y, w):\n",
        "  \"\"\"\n",
        "  Calculates the mean squared error of the linear regression model.\n",
        "\n",
        "  Args:\n",
        "    X: Feature matrix (d x n) where d is the number of features and n is the number of samples.\n",
        "    y: Target vector (n x 1).\n",
        "    w: Weight vector (d x 1).\n",
        "\n",
        "  Returns:\n",
        "    error: The MSE of the model.\n",
        "  \"\"\"\n",
        "  y_pred = X.T @ w\n",
        "  mse = np.mean((y - y_pred)**2)\n",
        "  return mse\n",
        "\n",
        "mse_wob = mse(X_train, y_train, w_ml)\n",
        "mse_wb = mse(X_train_biased, y_train, w_ml_wb)\n",
        "print(\"The MSE of the model without bias is:\\n\", mse_wob)\n",
        "print(\"\\n\")\n",
        "print(\"The MSE of the model with bias is:\\n\", mse_wb)\n"
      ],
      "metadata": {
        "colab": {
          "base_uri": "https://localhost:8080/"
        },
        "id": "heXluoNDtCBG",
        "outputId": "58385983-035a-4d05-c809-ccd9938acd81"
      },
      "execution_count": null,
      "outputs": [
        {
          "output_type": "stream",
          "name": "stdout",
          "text": [
            "The MSE of the model without bias is:\n",
            " 221.02065594915877\n",
            "\n",
            "\n",
            "The MSE of the model with bias is:\n",
            " 123.36485997994838\n"
          ]
        }
      ]
    },
    {
      "cell_type": "markdown",
      "source": [
        "### The MSE of the model with bias is lower than the MSE of the model without bias. This indicates that the model with bias is a better fit for the data."
      ],
      "metadata": {
        "id": "DMJbaze2ysv2"
      }
    },
    {
      "cell_type": "markdown",
      "source": [
        "# **Least squares solution using Gradient Descent**"
      ],
      "metadata": {
        "id": "xajuW4i5Yzcx"
      }
    },
    {
      "cell_type": "code",
      "source": [
        "def gradient_descent(X, y, num_iterations):\n",
        "  \"\"\"\n",
        "  Gradient descent algorithm for least squares.\n",
        "\n",
        "  Args:\n",
        "    X: Feature matrix (d x n) where d is the number of features and n is the number of samples.\n",
        "    y: Target vector (n x 1).\n",
        "    num_iterations: Number of iterations.\n",
        "\n",
        "  Returns:\n",
        "    w: Weight vector (d x 1).\n",
        "  \"\"\"\n",
        "  t = num_iterations\n",
        "  learning_rate = 1 / (t + 1)\n",
        "  d, n = X.shape\n",
        "  w = np.zeros((d, 1))\n",
        "  w_list = []\n",
        "\n",
        "  for i in range(t):\n",
        "    gradient = 2 * (((X @ X.T) @ w) - X @ y)\n",
        "    w = w - (learning_rate * gradient)\n",
        "    w_list.append(w)\n",
        "  return w, w_list\n",
        "\n",
        "w_gd, w_gd_list = gradient_descent(X_train, y_train, num_iterations=10000)\n",
        "w_gd_wb, w_gd_list_wb = gradient_descent(X_train_biased, y_train, num_iterations=10000)\n",
        "print(\"Least squares solution using GRADIENT DESCENT:\\n\")\n",
        "print(\"The w_gd (without bias) is:\\n\", w_gd)\n",
        "print(\"\\n\")\n",
        "print(\"The w_gd (with bias) is:\\n\", w_gd_wb)"
      ],
      "metadata": {
        "colab": {
          "base_uri": "https://localhost:8080/"
        },
        "id": "EyJ_ANjcoEOJ",
        "outputId": "5e75ee92-3394-4a92-828a-f1e0e23945e6"
      },
      "execution_count": null,
      "outputs": [
        {
          "output_type": "stream",
          "name": "stdout",
          "text": [
            "Least squares solution using GRADIENT DESCENT:\n",
            "\n",
            "The w_gd (without bias) is:\n",
            " [[1.44599914]\n",
            " [3.88421178]]\n",
            "\n",
            "\n",
            "The w_gd (with bias) is:\n",
            " [[9.89400832]\n",
            " [1.76570568]\n",
            " [3.5215898 ]]\n"
          ]
        }
      ]
    },
    {
      "cell_type": "markdown",
      "source": [
        "### The gradient descent algorithm successfully converged to a solution that is exactly equal to the least squares solution obtained using the analytical method."
      ],
      "metadata": {
        "id": "MSIjNwe7cOp-"
      }
    },
    {
      "cell_type": "markdown",
      "source": [
        "## **Compute and plot (as a function of $t$)** $$ \\| w_t - w_{ML} \\|_2 $$\n",
        "\n"
      ],
      "metadata": {
        "id": "_eIATEKrdCIZ"
      }
    },
    {
      "cell_type": "code",
      "source": [
        "# Compute\n",
        "l2_norm_diff_gd = []\n",
        "for w_t in w_gd_list:\n",
        "  norm_diff = np.linalg.norm(w_t - w_ml)\n",
        "  l2_norm_diff_gd.append(norm_diff)\n",
        "\n",
        "# Plot\n",
        "plt.figure(figsize=(25, 8))             # This is made to visualize the convergence clearly\n",
        "plt.plot(range(len(l2_norm_diff_gd)), l2_norm_diff_gd)\n",
        "plt.xlabel(\"t (iteration)\")\n",
        "plt.xticks(range(0, 10001, 1000))\n",
        "plt.ylabel(\"$|| W_{t} - W_{ML} ||_2$\")\n",
        "plt.grid(True)\n",
        "plt.show()"
      ],
      "metadata": {
        "colab": {
          "base_uri": "https://localhost:8080/",
          "height": 461
        },
        "id": "Il3mHc-_02X2",
        "outputId": "676ae01e-c5ce-4cc1-8912-4674109ec983"
      },
      "execution_count": null,
      "outputs": [
        {
          "output_type": "display_data",
          "data": {
            "text/plain": [
              "<Figure size 2500x800 with 1 Axes>"
            ],
            "image/png": "[encoded data removed]"
          },
          "metadata": {}
        }
      ]
    },
    {
      "cell_type": "markdown",
      "source": [
        "### The plot indicates the \"Convergence of Gradient Descent algorithm to the optimal solution\". The L2 norm difference between weight vector at each iteration \"t\" and $\\ W_{\\text{ML}}$ decreases as the number of iterations increases. The algorithm is steadily approaching the optimal solution. After certain number of iterations, the weight vector at iteration \"t\" becomes equal to $\\ W_{\\text{ML}}$ where the norm difference will be zero. At this \"t\", we can conclude that the algorithm has reached the optimal solution. As the GD uses whole dataset to update a weight, this gives us more accurate estimate of the gradient which leads to more stable convergence in terms of the loss function."
      ],
      "metadata": {
        "id": "S9VGlRbxFDA2"
      }
    },
    {
      "cell_type": "markdown",
      "source": [
        "# **Least squares solution using Stochastic Gradient Descent**"
      ],
      "metadata": {
        "id": "ucIahgJgfmW1"
      }
    },
    {
      "cell_type": "code",
      "source": [
        "def stochastic_gradient_descent(X, y, k, num_iterations):\n",
        "  \"\"\"\n",
        "  Stochastic gradient descent algorithm for least squares.\n",
        "\n",
        "  Args:\n",
        "    X: Feature matrix (d x n) where d is the number of features and n is the number of samples.\n",
        "    y: Target vector (n x 1).\n",
        "    k: Batch size.\n",
        "    num_iterations: Number of iterations.\n",
        "\n",
        "  Returns:\n",
        "    w: Weight vector (d x 1).\n",
        "  \"\"\"\n",
        "  t = num_iterations\n",
        "  learning_rate = 1 / (t + 1)\n",
        "  d, n = X.shape\n",
        "  w = np.zeros((d, 1))\n",
        "  w_list = []\n",
        "\n",
        "  for i in range(t):\n",
        "    indices = np.random.choice(n, size=k, replace=False)\n",
        "    X_batch = X[:, indices]                # Columns to be selected in X (d x n)\n",
        "    y_batch = y[indices, :]                # Rows to be selected in y (n x 1)\n",
        "\n",
        "    gradient = 2 * (((X_batch @ X_batch.T) @ w) - X_batch @ y_batch)\n",
        "    w = w - (learning_rate * gradient)\n",
        "    w_list.append(w)\n",
        "  w_avg = np.mean(w_list, axis=0)\n",
        "  return w_avg, w_list\n",
        "\n",
        "w_sgd, w_sgd_list = stochastic_gradient_descent(X_train, y_train, 100, num_iterations=10000)\n",
        "print(f'The least squares solution w_sgd (Stochastic Gradient Descent algorithm) is: \\n {w_sgd}')\n"
      ],
      "metadata": {
        "colab": {
          "base_uri": "https://localhost:8080/"
        },
        "id": "PDaL6Tn4Wlyy",
        "outputId": "2870423e-37be-4cdc-830d-8ce42bfba9fc"
      },
      "execution_count": null,
      "outputs": [
        {
          "output_type": "stream",
          "name": "stdout",
          "text": [
            "The least squares solution w_sgd (Stochastic Gradient Descent algorithm) is: \n",
            " [[1.40299138]\n",
            " [3.85591934]]\n"
          ]
        }
      ]
    },
    {
      "cell_type": "markdown",
      "source": [
        "### Due to the inherent randomness in updating the weights, the $w_{SGD}$ will not be exactly equal to $w_{ML}$ or $w_{GD}$."
      ],
      "metadata": {
        "id": "1SExBVaRikCQ"
      }
    },
    {
      "cell_type": "markdown",
      "source": [
        "## **Compute and plot (as a function of $t$)** $$ \\| w_t - w_{ML} \\|_2 $$\n"
      ],
      "metadata": {
        "id": "-4Bl9cHWiC21"
      }
    },
    {
      "cell_type": "code",
      "source": [
        "# Compute\n",
        "l2_norm_diff_sgd = []\n",
        "for w_t in w_sgd_list:\n",
        "  norm_diff = np.linalg.norm(w_t - w_ml)\n",
        "  l2_norm_diff_sgd.append(norm_diff)\n",
        "\n",
        "# Plot\n",
        "plt.plot(range(len(l2_norm_diff_sgd)), l2_norm_diff_sgd)\n",
        "plt.xlabel(\"t (iteration)\")\n",
        "plt.ylabel(\"$|| W_{t} - W_{ML} ||_2$\")\n",
        "plt.grid(True)\n",
        "plt.show()"
      ],
      "metadata": {
        "colab": {
          "base_uri": "https://localhost:8080/",
          "height": 449
        },
        "id": "FKFz8wXEfl56",
        "outputId": "b5d12ae2-1613-453d-d589-ebb397649be5"
      },
      "execution_count": null,
      "outputs": [
        {
          "output_type": "display_data",
          "data": {
            "text/plain": [
              "<Figure size 640x480 with 1 Axes>"
            ],
            "image/png": "[encoded data removed]"
          },
          "metadata": {}
        }
      ]
    },
    {
      "cell_type": "markdown",
      "source": [
        "### The above plot indicates the \"Convergence of Stochastic Gradient Descent algorithm to the optimal solution\". The L2 norm difference is fluctuating. This is because SGD uses a random subset of data to update the weights at each iteration. Even though the fluctuations are there, the algorithm still converges to a solution which is close to the optimal solution with some noise.\n"
      ],
      "metadata": {
        "id": "cIqmNhPXoApY"
      }
    },
    {
      "cell_type": "markdown",
      "source": [
        "### Stochastic Gradient Descent for Biased model"
      ],
      "metadata": {
        "id": "nj_k2FNrCErr"
      }
    },
    {
      "cell_type": "code",
      "source": [
        "w_sgd_wb, w_sgd_list_wb = stochastic_gradient_descent(X_train_biased, y_train, 100, num_iterations=10000)\n",
        "print(f'The least squares solution w_sgd (Stochastic Gradient Descent algorithm for biased model) is: \\n {w_sgd_wb}')"
      ],
      "metadata": {
        "colab": {
          "base_uri": "https://localhost:8080/"
        },
        "id": "K5nFLiZJBjkJ",
        "outputId": "eb030cb1-ba88-4fb9-b9ff-4a8feca84b82"
      },
      "execution_count": null,
      "outputs": [
        {
          "output_type": "stream",
          "name": "stdout",
          "text": [
            "The least squares solution w_sgd (Stochastic Gradient Descent algorithm for biased model) is: \n",
            " [[9.8321096 ]\n",
            " [1.75483309]\n",
            " [3.51880845]]\n"
          ]
        }
      ]
    },
    {
      "cell_type": "markdown",
      "source": [
        "# **Gradient Descent algorithm for Ridge Regression**"
      ],
      "metadata": {
        "id": "JLhRbi7WwaLN"
      }
    },
    {
      "cell_type": "code",
      "source": [
        "def gradient_descent_ridge(X, y, lambda_val, num_iterations):\n",
        "  \"\"\"\n",
        "  Gradient descent algorithm for ridge regression.\n",
        "\n",
        "  Args:\n",
        "    X: Feature matrix (d x n) where d is the number of features and n is the number of samples.\n",
        "    y: Target vector (n x 1).\n",
        "    lambda_val: Regularization parameter (Hyper parameter).\n",
        "    num_iterations: Number of iterations.\n",
        "\n",
        "  Returns:\n",
        "    w: Weight vector (d x 1).\n",
        "  \"\"\"\n",
        "  t = num_iterations\n",
        "  learning_rate = 1 / (t + 1)\n",
        "  d, n = X.shape\n",
        "  w = np.zeros((d, 1))\n",
        "  w_list = []\n",
        "\n",
        "  for i in range(t):\n",
        "    gradient = 2 * (((X @ X.T) @ w) - X @ y) + 2 * lambda_val * w\n",
        "    w = w - (learning_rate * gradient)\n",
        "    w_list.append(w)\n",
        "  return w, w_list"
      ],
      "metadata": {
        "id": "hpXAujOatrG2"
      },
      "execution_count": null,
      "outputs": []
    },
    {
      "cell_type": "markdown",
      "source": [
        "## Function for performing k-fold cross validation\n",
        "\n"
      ],
      "metadata": {
        "id": "MUn2O6UC1DSc"
      }
    },
    {
      "cell_type": "code",
      "source": [
        "def k_fold_cross_validation(X, y, k, lambda_values):\n",
        "  \"\"\"\n",
        "  Performs k-fold cross-validation for lambda in ridge regression.\n",
        "\n",
        "  Args:\n",
        "    X: Feature matrix.\n",
        "    y: Target vector.\n",
        "    k: Number of folds.\n",
        "    lambda_values: List of lambda values to test.\n",
        "\n",
        "  Returns:\n",
        "    val_errors: List of average validation errors for each lambda value.\n",
        "  \"\"\"\n",
        "  d, n = X.shape\n",
        "  fold_size = n // k\n",
        "  indices = np.arange(n)\n",
        "  val_errors = []\n",
        "\n",
        "  for lambda_val in lambda_values:\n",
        "    errors = []\n",
        "    for i in range(k):\n",
        "      # Split data into training and validation sets\n",
        "      val_indices = indices[i * fold_size : (i + 1) * fold_size]\n",
        "      train_indices = np.setdiff1d(indices, val_indices)\n",
        "      X_train_cv = X[:, train_indices]\n",
        "      y_train_cv = y[train_indices, :]\n",
        "      X_val_cv = X[:, val_indices]\n",
        "      y_val_cv = y[val_indices, :]\n",
        "\n",
        "      # Train the model with the current lambda value\n",
        "      w_ridge, w_list_ridge = gradient_descent_ridge(X_train_cv, y_train_cv, lambda_val, num_iterations=10000)\n",
        "\n",
        "      # Predict on the validation set\n",
        "      y_pred_val = X_val_cv.T @ w_ridge\n",
        "\n",
        "      # Compute the mean squared error on the validation set\n",
        "      error = np.mean((y_val_cv - y_pred_val) ** 2)\n",
        "      errors.append(error)\n",
        "\n",
        "    # Compute average validation error for current lambda value\n",
        "    avg_error = np.mean(errors)\n",
        "    val_errors.append(avg_error)\n",
        "\n",
        "  return val_errors"
      ],
      "metadata": {
        "id": "PzwtDtor2gL3"
      },
      "execution_count": null,
      "outputs": []
    },
    {
      "cell_type": "markdown",
      "source": [
        "## Take a range of $\\lambda$ values, perform k-fold cross validation to find out the validation error and the corresponding (the best) $\\lambda$."
      ],
      "metadata": {
        "id": "z9duHvxr1cwR"
      }
    },
    {
      "cell_type": "markdown",
      "source": [
        "## Unbiased Model"
      ],
      "metadata": {
        "id": "bT_S6utNJAuC"
      }
    },
    {
      "cell_type": "code",
      "source": [
        "lambda_values = [0.001, 0.01, 0.1, 1, 10, 100]\n",
        "k = 5           # Number of folds\n",
        "val_errors = k_fold_cross_validation(X_train, y_train, k, lambda_values)\n",
        "\n",
        "min_val_error = np.min(val_errors)\n",
        "min_lambda_index = np.argmin(val_errors)\n",
        "min_lambda = lambda_values[min_lambda_index]\n",
        "\n",
        "print(f\"Minimum validation error: {min_val_error}\")\n",
        "print(f\"Corresponding(The Best) lambda value: {min_lambda}\")"
      ],
      "metadata": {
        "colab": {
          "base_uri": "https://localhost:8080/"
        },
        "id": "Zz4qMJyB9Cjy",
        "outputId": "39756323-2066-4175-eef0-f2f03475d2cb"
      },
      "execution_count": null,
      "outputs": [
        {
          "output_type": "stream",
          "name": "stdout",
          "text": [
            "Minimum validation error: 223.11590786289736\n",
            "Corresponding(The Best) lambda value: 10\n"
          ]
        }
      ]
    },
    {
      "cell_type": "markdown",
      "source": [
        "### Plot the error in the validation set as a function of $\\lambda$"
      ],
      "metadata": {
        "id": "nDOkGFWv2fWc"
      }
    },
    {
      "cell_type": "code",
      "source": [
        "plt.plot(lambda_values, val_errors)\n",
        "plt.xlabel(\"$\\lambda$\")\n",
        "plt.ylabel(\"Error in the validation set\")\n",
        "plt.title(\"Error in the validation set as a function of $\\lambda$ for unbiased model\")\n",
        "plt.grid(True)\n",
        "plt.show()"
      ],
      "metadata": {
        "colab": {
          "base_uri": "https://localhost:8080/",
          "height": 488
        },
        "id": "ifmrnRYrKP31",
        "outputId": "ddb4e055-762d-461c-b5c7-77b43a996807"
      },
      "execution_count": null,
      "outputs": [
        {
          "output_type": "display_data",
          "data": {
            "text/plain": [
              "<Figure size 640x480 with 1 Axes>"
            ],
            "image/png": "[encoded data removed]"
          },
          "metadata": {}
        }
      ]
    },
    {
      "cell_type": "markdown",
      "source": [
        "### The plot shows the error in the validation set as a function of the regularization parameter $\\lambda$ for the unbiased model. As $\\lambda$ increases, the error initially decreases due to the regularization effect, but then starts to increase if $\\lambda$ becomes too large. The optimal $\\lambda$ value corresponds to the point where the error is minimized.\n"
      ],
      "metadata": {
        "id": "aZ5jSe-pYhn7"
      }
    },
    {
      "cell_type": "markdown",
      "source": [
        "### Compute $w_R$ by using the best $\\lambda$ w.r.t the minimum validation error"
      ],
      "metadata": {
        "id": "1wjIVTrlKpzI"
      }
    },
    {
      "cell_type": "code",
      "source": [
        "w_ridge, w_ridge_list = gradient_descent_ridge(X_train, y_train, lambda_val=min_lambda, num_iterations=10000)\n",
        "print(f'The w_r (Ridge Regression) for unbiased model is: \\n {w_ridge}')"
      ],
      "metadata": {
        "colab": {
          "base_uri": "https://localhost:8080/"
        },
        "id": "ly2eDpR8CLo6",
        "outputId": "a8e3e3bc-8f63-42ea-d165-8d6b0df65d98"
      },
      "execution_count": null,
      "outputs": [
        {
          "output_type": "stream",
          "name": "stdout",
          "text": [
            "The w_r (Ridge Regression) for unbiased model is: \n",
            " [[1.43125259]\n",
            " [3.84550793]]\n"
          ]
        }
      ]
    },
    {
      "cell_type": "markdown",
      "source": [
        "## Biased Model"
      ],
      "metadata": {
        "id": "ssjJ5SzIKilg"
      }
    },
    {
      "cell_type": "code",
      "source": [
        "lambda_values = [0.001, 0.01, 0.1, 1, 10, 100]\n",
        "k = 5           # Number of folds\n",
        "val_errors_wb = k_fold_cross_validation(X_train_biased, y_train, k, lambda_values)\n",
        "\n",
        "min_val_error_wb = np.min(val_errors_wb)\n",
        "min_lambda_index_wb = np.argmin(val_errors_wb)\n",
        "min_lambda_wb = lambda_values[min_lambda_index_wb]\n",
        "\n",
        "print(f\"Minimum validation error (Biased model): {min_val_error_wb}\")\n",
        "print(f\"Corresponding(The Best) lambda value (Biased model): {min_lambda_wb}\")"
      ],
      "metadata": {
        "colab": {
          "base_uri": "https://localhost:8080/"
        },
        "id": "_kkq-JFIHMaa",
        "outputId": "cc2197b0-788b-4913-9fc1-1fdea7ee47fc"
      },
      "execution_count": null,
      "outputs": [
        {
          "output_type": "stream",
          "name": "stdout",
          "text": [
            "Minimum validation error (Biased model): 124.99495209533521\n",
            "Corresponding(The Best) lambda value (Biased model): 1\n"
          ]
        }
      ]
    },
    {
      "cell_type": "markdown",
      "source": [
        "### Plot the error in the validation set as a function of $\\lambda$ (Biased model)"
      ],
      "metadata": {
        "id": "33VtnKi3MXRs"
      }
    },
    {
      "cell_type": "code",
      "source": [
        "plt.plot(lambda_values, val_errors_wb)\n",
        "plt.xlabel(\"$\\lambda$\")\n",
        "plt.ylabel(\"Error in the validation set\")\n",
        "plt.title(\"Error in the validation set as a function of $\\lambda$ for biased model\")\n",
        "plt.grid(True)\n",
        "plt.show()"
      ],
      "metadata": {
        "colab": {
          "base_uri": "https://localhost:8080/",
          "height": 473
        },
        "id": "CuOnZSlk2min",
        "outputId": "978c5677-31e3-4c58-99e2-49fd2bb24420"
      },
      "execution_count": null,
      "outputs": [
        {
          "output_type": "display_data",
          "data": {
            "text/plain": [
              "<Figure size 640x480 with 1 Axes>"
            ],
            "image/png": "[encoded data removed]"
          },
          "metadata": {}
        }
      ]
    },
    {
      "cell_type": "markdown",
      "source": [
        "### Compute $w_R$ by using the best $\\lambda$ w.r.t the minimum validation error (Biased model)"
      ],
      "metadata": {
        "id": "m_M53F6RMfNs"
      }
    },
    {
      "cell_type": "code",
      "source": [
        "w_ridge_wb, w_ridge_list_wb = gradient_descent_ridge(X_train_biased, y_train, lambda_val=min_lambda_wb, num_iterations=10000)\n",
        "print(f'The w_r (Ridge Regression) for biased model is: \\n {w_ridge_wb}')"
      ],
      "metadata": {
        "colab": {
          "base_uri": "https://localhost:8080/"
        },
        "id": "dMm6ciWPMi01",
        "outputId": "4ca8f83b-8449-446b-f8bc-45485fa92c5a"
      },
      "execution_count": null,
      "outputs": [
        {
          "output_type": "stream",
          "name": "stdout",
          "text": [
            "The w_r (Ridge Regression) for biased model is: \n",
            " [[9.88417244]\n",
            " [1.7635836 ]\n",
            " [3.51840435]]\n"
          ]
        }
      ]
    },
    {
      "cell_type": "code",
      "source": [
        "# Load the test dataset\n",
        "test_data = pd.read_csv(\"FMLA1Q1Data_test.csv\", header=None)"
      ],
      "metadata": {
        "id": "gLsCDU0ZIRDK"
      },
      "execution_count": null,
      "outputs": []
    },
    {
      "cell_type": "code",
      "source": [
        "# Name the columns\n",
        "test_data.columns = [\"x1\", \"x2\", \"y\"]"
      ],
      "metadata": {
        "id": "TvHURS10IjrH"
      },
      "execution_count": null,
      "outputs": []
    },
    {
      "cell_type": "code",
      "source": [
        "test_data.head()"
      ],
      "metadata": {
        "colab": {
          "base_uri": "https://localhost:8080/",
          "height": 206
        },
        "id": "zB7sfCcKIe1V",
        "outputId": "88efa824-3249-4f2d-8885-1bf59effcf21"
      },
      "execution_count": null,
      "outputs": [
        {
          "output_type": "execute_result",
          "data": {
            "text/plain": [
              "        x1       x2        y\n",
              "0  0.87060 -0.73016   2.4105\n",
              "1  0.33076 -0.91633   1.6318\n",
              "2 -1.34790  1.78760  12.3770\n",
              "3  1.54790 -0.82040   6.8406\n",
              "4 -0.61664 -0.19671   1.6138"
            ],
            "text/html": [
              "\n",
              "  <div id=\"df-ac17a187-20fd-4aba-9e75-5b1f1c6edac6\" class=\"colab-df-container\">\n",
              "    <div>\n",
              "<style scoped>\n",
              "    .dataframe tbody tr th:only-of-type {\n",
              "        vertical-align: middle;\n",
              "    }\n",
              "\n",
              "    .dataframe tbody tr th {\n",
              "        vertical-align: top;\n",
              "    }\n",
              "\n",
              "    .dataframe thead th {\n",
              "        text-align: right;\n",
              "    }\n",
              "</style>\n",
              "<table border=\"1\" class=\"dataframe\">\n",
              "  <thead>\n",
              "    <tr style=\"text-align: right;\">\n",
              "      <th></th>\n",
              "      <th>x1</th>\n",
              "      <th>x2</th>\n",
              "      <th>y</th>\n",
              "    </tr>\n",
              "  </thead>\n",
              "  <tbody>\n",
              "    <tr>\n",
              "      <th>0</th>\n",
              "      <td>0.87060</td>\n",
              "      <td>-0.73016</td>\n",
              "      <td>2.4105</td>\n",
              "    </tr>\n",
              "    <tr>\n",
              "      <th>1</th>\n",
              "      <td>0.33076</td>\n",
              "      <td>-0.91633</td>\n",
              "      <td>1.6318</td>\n",
              "    </tr>\n",
              "    <tr>\n",
              "      <th>2</th>\n",
              "      <td>-1.34790</td>\n",
              "      <td>1.78760</td>\n",
              "      <td>12.3770</td>\n",
              "    </tr>\n",
              "    <tr>\n",
              "      <th>3</th>\n",
              "      <td>1.54790</td>\n",
              "      <td>-0.82040</td>\n",
              "      <td>6.8406</td>\n",
              "    </tr>\n",
              "    <tr>\n",
              "      <th>4</th>\n",
              "      <td>-0.61664</td>\n",
              "      <td>-0.19671</td>\n",
              "      <td>1.6138</td>\n",
              "    </tr>\n",
              "  </tbody>\n",
              "</table>\n",
              "</div>\n",
              "    <div class=\"colab-df-buttons\">\n",
              "\n",
              "  <div class=\"colab-df-container\">\n",
              "    <button class=\"colab-df-convert\" onclick=\"convertToInteractive('df-ac17a187-20fd-4aba-9e75-5b1f1c6edac6')\"\n",
              "            title=\"Convert this dataframe to an interactive table.\"\n",
              "            style=\"display:none;\">\n",
              "\n",
              "  <svg xmlns=\"http://www.w3.org/2000/svg\" height=\"24px\" viewBox=\"0 -960 960 960\">\n",
              "    <path d=\"M120-120v-720h720v720H120Zm60-500h600v-160H180v160Zm220 220h160v-160H400v160Zm0 220h160v-160H400v160ZM180-400h160v-160H180v160Zm440 0h160v-160H620v160ZM180-180h160v-160H180v160Zm440 0h160v-160H620v160Z\"/>\n",
              "  </svg>\n",
              "    </button>\n",
              "\n",
              "  <style>\n",
              "    .colab-df-container {\n",
              "      display:flex;\n",
              "      gap: 12px;\n",
              "    }\n",
              "\n",
              "    .colab-df-convert {\n",
              "      background-color: #E8F0FE;\n",
              "      border: none;\n",
              "      border-radius: 50%;\n",
              "      cursor: pointer;\n",
              "      display: none;\n",
              "      fill: #1967D2;\n",
              "      height: 32px;\n",
              "      padding: 0 0 0 0;\n",
              "      width: 32px;\n",
              "    }\n",
              "\n",
              "    .colab-df-convert:hover {\n",
              "      background-color: #E2EBFA;\n",
              "      box-shadow: 0px 1px 2px rgba(60, 64, 67, 0.3), 0px 1px 3px 1px rgba(60, 64, 67, 0.15);\n",
              "      fill: #174EA6;\n",
              "    }\n",
              "\n",
              "    .colab-df-buttons div {\n",
              "      margin-bottom: 4px;\n",
              "    }\n",
              "\n",
              "    [theme=dark] .colab-df-convert {\n",
              "      background-color: #3B4455;\n",
              "      fill: #D2E3FC;\n",
              "    }\n",
              "\n",
              "    [theme=dark] .colab-df-convert:hover {\n",
              "      background-color: #434B5C;\n",
              "      box-shadow: 0px 1px 3px 1px rgba(0, 0, 0, 0.15);\n",
              "      filter: drop-shadow(0px 1px 2px rgba(0, 0, 0, 0.3));\n",
              "      fill: #FFFFFF;\n",
              "    }\n",
              "  </style>\n",
              "\n",
              "    <script>\n",
              "      const buttonEl =\n",
              "        document.querySelector('#df-ac17a187-20fd-4aba-9e75-5b1f1c6edac6 button.colab-df-convert');\n",
              "      buttonEl.style.display =\n",
              "        google.colab.kernel.accessAllowed ? 'block' : 'none';\n",
              "\n",
              "      async function convertToInteractive(key) {\n",
              "        const element = document.querySelector('#df-ac17a187-20fd-4aba-9e75-5b1f1c6edac6');\n",
              "        const dataTable =\n",
              "          await google.colab.kernel.invokeFunction('convertToInteractive',\n",
              "                                                    [key], {});\n",
              "        if (!dataTable) return;\n",
              "\n",
              "        const docLinkHtml = 'Like what you see? Visit the ' +\n",
              "          '<a target=\"_blank\" href=https://colab.research.google.com/notebooks/data_table.ipynb>data table notebook</a>'\n",
              "          + ' to learn more about interactive tables.';\n",
              "        element.innerHTML = '';\n",
              "        dataTable['output_type'] = 'display_data';\n",
              "        await google.colab.output.renderOutput(dataTable, element);\n",
              "        const docLink = document.createElement('div');\n",
              "        docLink.innerHTML = docLinkHtml;\n",
              "        element.appendChild(docLink);\n",
              "      }\n",
              "    </script>\n",
              "  </div>\n",
              "\n",
              "\n",
              "<div id=\"df-7343d189-2b61-418d-9478-a7bf25d7521f\">\n",
              "  <button class=\"colab-df-quickchart\" onclick=\"quickchart('df-7343d189-2b61-418d-9478-a7bf25d7521f')\"\n",
              "            title=\"Suggest charts\"\n",
              "            style=\"display:none;\">\n",
              "\n",
              "<svg xmlns=\"http://www.w3.org/2000/svg\" height=\"24px\"viewBox=\"0 0 24 24\"\n",
              "     width=\"24px\">\n",
              "    <g>\n",
              "        <path d=\"M19 3H5c-1.1 0-2 .9-2 2v14c0 1.1.9 2 2 2h14c1.1 0 2-.9 2-2V5c0-1.1-.9-2-2-2zM9 17H7v-7h2v7zm4 0h-2V7h2v10zm4 0h-2v-4h2v4z\"/>\n",
              "    </g>\n",
              "</svg>\n",
              "  </button>\n",
              "\n",
              "<style>\n",
              "  .colab-df-quickchart {\n",
              "      --bg-color: #E8F0FE;\n",
              "      --fill-color: #1967D2;\n",
              "      --hover-bg-color: #E2EBFA;\n",
              "      --hover-fill-color: #174EA6;\n",
              "      --disabled-fill-color: #AAA;\n",
              "      --disabled-bg-color: #DDD;\n",
              "  }\n",
              "\n",
              "  [theme=dark] .colab-df-quickchart {\n",
              "      --bg-color: #3B4455;\n",
              "      --fill-color: #D2E3FC;\n",
              "      --hover-bg-color: #434B5C;\n",
              "      --hover-fill-color: #FFFFFF;\n",
              "      --disabled-bg-color: #3B4455;\n",
              "      --disabled-fill-color: #666;\n",
              "  }\n",
              "\n",
              "  .colab-df-quickchart {\n",
              "    background-color: var(--bg-color);\n",
              "    border: none;\n",
              "    border-radius: 50%;\n",
              "    cursor: pointer;\n",
              "    display: none;\n",
              "    fill: var(--fill-color);\n",
              "    height: 32px;\n",
              "    padding: 0;\n",
              "    width: 32px;\n",
              "  }\n",
              "\n",
              "  .colab-df-quickchart:hover {\n",
              "    background-color: var(--hover-bg-color);\n",
              "    box-shadow: 0 1px 2px rgba(60, 64, 67, 0.3), 0 1px 3px 1px rgba(60, 64, 67, 0.15);\n",
              "    fill: var(--button-hover-fill-color);\n",
              "  }\n",
              "\n",
              "  .colab-df-quickchart-complete:disabled,\n",
              "  .colab-df-quickchart-complete:disabled:hover {\n",
              "    background-color: var(--disabled-bg-color);\n",
              "    fill: var(--disabled-fill-color);\n",
              "    box-shadow: none;\n",
              "  }\n",
              "\n",
              "  .colab-df-spinner {\n",
              "    border: 2px solid var(--fill-color);\n",
              "    border-color: transparent;\n",
              "    border-bottom-color: var(--fill-color);\n",
              "    animation:\n",
              "      spin 1s steps(1) infinite;\n",
              "  }\n",
              "\n",
              "  @keyframes spin {\n",
              "    0% {\n",
              "      border-color: transparent;\n",
              "      border-bottom-color: var(--fill-color);\n",
              "      border-left-color: var(--fill-color);\n",
              "    }\n",
              "    20% {\n",
              "      border-color: transparent;\n",
              "      border-left-color: var(--fill-color);\n",
              "      border-top-color: var(--fill-color);\n",
              "    }\n",
              "    30% {\n",
              "      border-color: transparent;\n",
              "      border-left-color: var(--fill-color);\n",
              "      border-top-color: var(--fill-color);\n",
              "      border-right-color: var(--fill-color);\n",
              "    }\n",
              "    40% {\n",
              "      border-color: transparent;\n",
              "      border-right-color: var(--fill-color);\n",
              "      border-top-color: var(--fill-color);\n",
              "    }\n",
              "    60% {\n",
              "      border-color: transparent;\n",
              "      border-right-color: var(--fill-color);\n",
              "    }\n",
              "    80% {\n",
              "      border-color: transparent;\n",
              "      border-right-color: var(--fill-color);\n",
              "      border-bottom-color: var(--fill-color);\n",
              "    }\n",
              "    90% {\n",
              "      border-color: transparent;\n",
              "      border-bottom-color: var(--fill-color);\n",
              "    }\n",
              "  }\n",
              "</style>\n",
              "\n",
              "  <script>\n",
              "    async function quickchart(key) {\n",
              "      const quickchartButtonEl =\n",
              "        document.querySelector('#' + key + ' button');\n",
              "      quickchartButtonEl.disabled = true;  // To prevent multiple clicks.\n",
              "      quickchartButtonEl.classList.add('colab-df-spinner');\n",
              "      try {\n",
              "        const charts = await google.colab.kernel.invokeFunction(\n",
              "            'suggestCharts', [key], {});\n",
              "      } catch (error) {\n",
              "        console.error('Error during call to suggestCharts:', error);\n",
              "      }\n",
              "      quickchartButtonEl.classList.remove('colab-df-spinner');\n",
              "      quickchartButtonEl.classList.add('colab-df-quickchart-complete');\n",
              "    }\n",
              "    (() => {\n",
              "      let quickchartButtonEl =\n",
              "        document.querySelector('#df-7343d189-2b61-418d-9478-a7bf25d7521f button');\n",
              "      quickchartButtonEl.style.display =\n",
              "        google.colab.kernel.accessAllowed ? 'block' : 'none';\n",
              "    })();\n",
              "  </script>\n",
              "</div>\n",
              "\n",
              "    </div>\n",
              "  </div>\n"
            ],
            "application/vnd.google.colaboratory.intrinsic+json": {
              "type": "dataframe",
              "variable_name": "test_data",
              "summary": "{\n  \"name\": \"test_data\",\n  \"rows\": 100,\n  \"fields\": [\n    {\n      \"column\": \"x1\",\n      \"properties\": {\n        \"dtype\": \"number\",\n        \"std\": 1.0884092832164498,\n        \"min\": -2.7712,\n        \"max\": 3.0125,\n        \"num_unique_values\": 100,\n        \"samples\": [\n          1.1778,\n          1.2164,\n          0.25212\n        ],\n        \"semantic_type\": \"\",\n        \"description\": \"\"\n      }\n    },\n    {\n      \"column\": \"x2\",\n      \"properties\": {\n        \"dtype\": \"number\",\n        \"std\": 0.9559787469646448,\n        \"min\": -2.1327,\n        \"max\": 3.2662,\n        \"num_unique_values\": 100,\n        \"samples\": [\n          -0.48824,\n          1.3986,\n          0.20707\n        ],\n        \"semantic_type\": \"\",\n        \"description\": \"\"\n      }\n    },\n    {\n      \"column\": \"y\",\n      \"properties\": {\n        \"dtype\": \"number\",\n        \"std\": 9.098329901088464,\n        \"min\": 0.71804,\n        \"max\": 54.237,\n        \"num_unique_values\": 100,\n        \"samples\": [\n          5.0496,\n          33.561,\n          2.8315\n        ],\n        \"semantic_type\": \"\",\n        \"description\": \"\"\n      }\n    }\n  ]\n}"
            }
          },
          "metadata": {},
          "execution_count": 30
        }
      ]
    },
    {
      "cell_type": "markdown",
      "source": [
        "### Transform the test dataset into matrices"
      ],
      "metadata": {
        "id": "QpHUceW2zAll"
      }
    },
    {
      "cell_type": "code",
      "source": [
        "X_test = test_data[[\"x1\", \"x2\"]]\n",
        "y_test = test_data[\"y\"]\n",
        "\n",
        "X_test = np.array(X_test)\n",
        "y_test = np.array(y_test)\n",
        "X_test = X_test.T\n",
        "y_test = y_test.reshape(-1, 1)\n",
        "\n",
        "X_test.shape, y_test.shape"
      ],
      "metadata": {
        "colab": {
          "base_uri": "https://localhost:8080/"
        },
        "id": "ubvEa2p-JDNK",
        "outputId": "de30d619-1433-43b0-fd11-15a722c86f30"
      },
      "execution_count": null,
      "outputs": [
        {
          "output_type": "execute_result",
          "data": {
            "text/plain": [
              "((2, 100), (100, 1))"
            ]
          },
          "metadata": {},
          "execution_count": 12
        }
      ]
    },
    {
      "cell_type": "markdown",
      "source": [
        "### Add bias (intercept) to $X_{test}$"
      ],
      "metadata": {
        "id": "Dn31qNVYIllC"
      }
    },
    {
      "cell_type": "code",
      "source": [
        "X_test_biased = np.ones((1, X_test.shape[1]))\n",
        "X_test_biased = np.concatenate((X_test_biased, X_test), axis=0)\n",
        "X_test_biased.shape"
      ],
      "metadata": {
        "colab": {
          "base_uri": "https://localhost:8080/"
        },
        "id": "ttxg01i3Ikqc",
        "outputId": "43b5d664-31fc-47ef-97b0-2458cb4faf38"
      },
      "execution_count": null,
      "outputs": [
        {
          "output_type": "execute_result",
          "data": {
            "text/plain": [
              "(3, 100)"
            ]
          },
          "metadata": {},
          "execution_count": 13
        }
      ]
    },
    {
      "cell_type": "markdown",
      "source": [
        "## Compare the test error of $w_{R}$ with $w_{ML}$."
      ],
      "metadata": {
        "id": "vYbVcmgh4QTP"
      }
    },
    {
      "cell_type": "markdown",
      "source": [
        "### Unbiased Model"
      ],
      "metadata": {
        "id": "rWB62n5aO1hd"
      }
    },
    {
      "cell_type": "code",
      "source": [
        "y_pred_test_ml = X_test.T @ w_ml\n",
        "test_error_ml = np.mean((y_test - y_pred_test_ml) ** 2)\n",
        "\n",
        "y_pred_test_ridge = X_test.T @ w_ridge\n",
        "test_error_ridge = np.mean((y_test - y_pred_test_ridge) ** 2)\n",
        "\n",
        "print(\"Test errors for unbiased model:\")\n",
        "print(f\"Test error of w_ml: {test_error_ml}\")\n",
        "print(f\"Test error of w_r: {test_error_ridge}\")"
      ],
      "metadata": {
        "colab": {
          "base_uri": "https://localhost:8080/"
        },
        "id": "4iYAu8gBJjK-",
        "outputId": "96082b3a-a448-49c9-869a-b4ba7edf157a"
      },
      "execution_count": null,
      "outputs": [
        {
          "output_type": "stream",
          "name": "stdout",
          "text": [
            "Test errors for unbiased model:\n",
            "Test error of w_ml: 142.76610663299087\n",
            "Test error of w_r: 142.8053166564239\n"
          ]
        }
      ]
    },
    {
      "cell_type": "markdown",
      "source": [
        "### Biased Model"
      ],
      "metadata": {
        "id": "yiCOZMd-PaJk"
      }
    },
    {
      "cell_type": "code",
      "source": [
        "y_pred_test_ml_wb = X_test_biased.T @ w_ml_wb\n",
        "test_error_ml_wb = np.mean((y_test - y_pred_test_ml_wb) ** 2)\n",
        "\n",
        "y_pred_test_ridge_wb = X_test_biased.T @ w_ridge_wb\n",
        "test_error_ridge_wb = np.mean((y_test - y_pred_test_ridge_wb) ** 2)\n",
        "\n",
        "print(\"Test errors for biased model:\")\n",
        "print(f\"Test error of w_ml: {test_error_ml_wb}\")\n",
        "print(f\"Test error of w_r: {test_error_ridge_wb}\")"
      ],
      "metadata": {
        "colab": {
          "base_uri": "https://localhost:8080/"
        },
        "id": "QsjwErfEPcHk",
        "outputId": "a13bb4ed-0d3c-4b49-c013-0acf0fd978e7"
      },
      "execution_count": null,
      "outputs": [
        {
          "output_type": "stream",
          "name": "stdout",
          "text": [
            "Test errors for biased model:\n",
            "Test error of w_ml: 66.00545933461238\n",
            "Test error of w_r: 65.99000384575946\n"
          ]
        }
      ]
    },
    {
      "cell_type": "markdown",
      "source": [
        "### Based on the analysis and results from the code, we can conclude that for this specific dataset,  $w_{R}$ (Ridge Regression solution) tends to be a better choice than $w_{ML}$ (Least Squares solution) in terms of generalization performance.\n"
      ],
      "metadata": {
        "id": "I0GF8TZvO0ek"
      }
    },
    {
      "cell_type": "markdown",
      "source": [
        "## Visualization of original data and prediction using $W_{ML}$ (Unbiased model)"
      ],
      "metadata": {
        "id": "POxyd3OZYkCt"
      }
    },
    {
      "cell_type": "code",
      "source": [
        "from mpl_toolkits.mplot3d import Axes3D\n",
        "\n",
        "# Prediction\n",
        "y_pred = X_train.T @ w_ml\n",
        "\n",
        "# Create the figure and axes object\n",
        "fig = plt.figure(figsize=(10, 8))\n",
        "ax = fig.add_subplot(111, projection='3d')\n",
        "\n",
        "# Plot the original data\n",
        "ax.scatter(X_train[0, :], X_train[1, :], y_train, color='blue', label='Original Data')\n",
        "\n",
        "# Plot the predicted data\n",
        "ax.scatter(X_train[0, :], X_train[1, :], y_pred, color='red', label='Prediction')\n",
        "\n",
        "# Set labels and title\n",
        "ax.set_xlabel('x1')\n",
        "ax.set_ylabel('x2')\n",
        "ax.set_zlabel('y')\n",
        "ax.view_init(elev=0, azim=-20)\n",
        "ax.set_title('Original Data vs Prediction')\n",
        "\n",
        "plt.legend()\n",
        "plt.show()\n"
      ],
      "metadata": {
        "colab": {
          "base_uri": "https://localhost:8080/",
          "height": 675
        },
        "id": "6NA5QuRUNHBg",
        "outputId": "51e075dc-cb85-4db3-fb8b-a3033e3370c3"
      },
      "execution_count": null,
      "outputs": [
        {
          "output_type": "display_data",
          "data": {
            "text/plain": [
              "<Figure size 1000x800 with 1 Axes>"
            ],
            "image/png": "[encoded data removed]"
          },
          "metadata": {}
        }
      ]
    },
    {
      "cell_type": "markdown",
      "source": [
        "### From the above plot, we can say that the dataset contains non-linear pattern which is parabolic. So we can use **Polynomial Kernel with degree 2** for kernel regression."
      ],
      "metadata": {
        "id": "RxEDcaPIZZZr"
      }
    },
    {
      "cell_type": "markdown",
      "source": [
        "# **Kernel Regression**"
      ],
      "metadata": {
        "id": "HW1oAgw7O07L"
      }
    },
    {
      "cell_type": "markdown",
      "source": [
        "### I chose **Polynomial Kernel** because <br/>\n",
        "\n",
        "$K(x_{i}, x_{j}) = (x_{i} . x_{j} + c)^{p}$ where \"p\" is the degree of polynomial & \"c\" is a coefficient\n",
        "\n",
        "\n",
        "1.   Since the dataset likely contains non-linear patterns specifically quadratic, the polynomial kernel is capable of capturing non-linear relationships in the data.\n",
        "2.   It will capture the quadratic relationship explicitly without overfitting to more complex patterns.\n"
      ],
      "metadata": {
        "id": "xS-VD_yLZFrQ"
      }
    },
    {
      "cell_type": "code",
      "source": [
        "def polynomial_kernel(x1, x2, deg=2, coef=1):\n",
        "  return ((np.dot(x1, x2) + coef) ** deg)"
      ],
      "metadata": {
        "id": "V23jj8Tmekta"
      },
      "execution_count": null,
      "outputs": []
    },
    {
      "cell_type": "code",
      "source": [
        "def kernel_regression(X_tr, y, X_te, deg=2, coef=1):\n",
        "  y_pred = np.zeros(X_te.shape[0])\n",
        "\n",
        "  for i, x_test in enumerate(X_te):\n",
        "    weights = np.array([polynomial_kernel(x_train, x_test, deg, coef) for x_train in X_tr])\n",
        "    y_pred[i] = np.sum(weights * y) / np.sum(weights)\n",
        "\n",
        "  return y_pred"
      ],
      "metadata": {
        "id": "z-uNAT_VfBfD"
      },
      "execution_count": null,
      "outputs": []
    },
    {
      "cell_type": "code",
      "source": [
        "y_pred_kr = kernel_regression(X_train.T, y_train, X_test.T, 2, 1)\n",
        "print(np.mean((y_pred_kr - y_test) ** 2))"
      ],
      "metadata": {
        "id": "DdcizBPhg6n2"
      },
      "execution_count": null,
      "outputs": []
    }
  ]
}